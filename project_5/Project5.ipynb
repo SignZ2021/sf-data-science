{
 "cells": [
  {
   "cell_type": "markdown",
   "id": "6c132ca1",
   "metadata": {},
   "source": [
    "**Проект 5. Компьютер говорит \"Нет\"**"
   ]
  },
  {
   "cell_type": "markdown",
   "id": "fa720fea",
   "metadata": {},
   "source": [
    "**1. Постановка задачи и знакомство с данными**"
   ]
  },
  {
   "cell_type": "markdown",
   "id": "79ed46f4",
   "metadata": {},
   "source": [
    "***1.1. Постановка задачи***"
   ]
  },
  {
   "cell_type": "markdown",
   "id": "6985a38c",
   "metadata": {},
   "source": [
    "Создать скоринговую модель для предсказания дефолта клиентов банка."
   ]
  },
  {
   "cell_type": "markdown",
   "id": "df3eb963",
   "metadata": {},
   "source": [
    "***1.2. Описание структуры данных***"
   ]
  },
  {
   "cell_type": "markdown",
   "id": "5efaeda7",
   "metadata": {},
   "source": [
    "Рассмотрим описание структуры данных, которое нам предложено при постановке задачи.\n",
    "\n",
    "Описания полей\n",
    "- client_id - идентификатор клиента \n",
    "- app_date - дата подачи заявки \n",
    "- education - уровень образования \n",
    "- sex - пол заемщика \n",
    "- age - возраст заемщика \n",
    "- car - флаг наличия автомобиля \n",
    "- car_type - флаг автомобиля-иномарки \n",
    "- decline_app_cnt - количество отказанных прошлых заявок \n",
    "- good_work - флаг наличия “хорошей” работы \n",
    "- score_bki - скоринговый балл по данным из БКИ \n",
    "- bki_request_cnt - количество запросов в БКИ \n",
    "- region_rating - рейтинг региона \n",
    "- home_address - категоризатор домашнего адреса \n",
    "- work_address - категоризатор рабочего адреса \n",
    "- income - доход заемщика \n",
    "- sna - связь заемщика с клиентами банка \n",
    "- first_time - давность наличия информации о заемщике \n",
    "- foreign_passport - наличие загранпаспорта \n",
    "- score_bki - скоринговый балл по данным из БКИ \n",
    "- default - флаг дефолта по кредиту"
   ]
  },
  {
   "cell_type": "markdown",
   "id": "a3b264ce",
   "metadata": {},
   "source": [
    "***1.3. Подключение требуемых библиотек, инициализация требуемых переменных, процедур и функций***"
   ]
  },
  {
   "cell_type": "code",
   "execution_count": 1,
   "id": "e7e1efe1",
   "metadata": {},
   "outputs": [],
   "source": [
    "import numpy as np\n",
    "import pandas as pd\n",
    "\n",
    "import matplotlib.pyplot as plt\n",
    "import seaborn as sns\n",
    "\n",
    "from sklearn.preprocessing import LabelEncoder, StandardScaler \n",
    "from sklearn.feature_selection import f_classif, mutual_info_classif\n",
    "from sklearn.model_selection import train_test_split, GridSearchCV\n",
    "from sklearn.linear_model import LogisticRegression\n",
    "from sklearn.metrics import confusion_matrix, accuracy_score, f1_score, roc_auc_score, roc_curve"
   ]
  },
  {
   "cell_type": "code",
   "execution_count": 2,
   "id": "fc308273",
   "metadata": {},
   "outputs": [],
   "source": [
    "# Списки для хранения названия признаков по типам\n",
    "num_cols = [] # Числовые\n",
    "cat_cols = [] # Категориальные\n",
    "bin_cols = [] # Бинарные\n",
    "\n",
    "def number_graph(data, column, title):\n",
    "    \"\"\"Процедура для визуализации распределений числовых признаков\n",
    "\n",
    "    Args:\n",
    "        data (DataFrame): Датафрейм с данными для посторения графика\n",
    "        column (string): Название признака для посторения графика\n",
    "        title (string): Заголовок графика\n",
    "\n",
    "    \"\"\"\n",
    "    fig = plt.figure(figsize=(14,5))    \n",
    "    \n",
    "    bins = 150 if column.nunique() > 150 else column.nunique()\n",
    "    plt.subplot(1, 2, 1)\n",
    "    sns.histplot(data=data, x=column, bins=bins).set(title=title+' (histogram)')\n",
    "    \n",
    "    plt.subplot(1, 2, 2)\n",
    "    sns.boxplot(x='default', y=column, data=data).set(title=title+' (boxplot)')\n",
    "    plt.show()\n",
    "\n",
    "def outliers(column):\n",
    "    \"\"\"Функция для получения данных по выбросам данных\n",
    "\n",
    "    Args:\n",
    "        column (float): Значение признака данных для расчета параметров выбросов\n",
    "\n",
    "    Returns:\n",
    "        int: Количество выбросов\n",
    "        float: Нижняя граница выбросов\n",
    "        float: Верхняя граница выбросов\n",
    "    \"\"\"\n",
    "    Q1 = column.quantile(0.25)\n",
    "    Q3 = column.quantile(0.75)\n",
    "    IRQ = Q3 - Q1\n",
    "    min_out = Q1 - 1.5 * IRQ\n",
    "    max_out = Q3 + 1.5 * IRQ\n",
    "    \n",
    "    return (column < min_out).sum() + (column > max_out).sum(), min_out, max_out\n",
    "\n",
    "def print_outliers(df, outs):\n",
    "    \"\"\"Процедура для вывода количества выбросов и их доли в данных\n",
    "\n",
    "    Args:\n",
    "        df (DataFrame): Датафрейм с данными\n",
    "        outs (int): Количество выбросов\n",
    "\n",
    "    \"\"\"\n",
    "    percent = round(outs/len(df) * 100, 2)\n",
    "    print(f'Выбросы: {outs} ({percent}%)')\n",
    "    \n",
    "def get_metrics(y_test, y_pred, y_prob):    \n",
    "    \"\"\"Функция для получения данных по метрикам\n",
    "\n",
    "    Args:\n",
    "        y_test (array): Массив значений с истинными значениями целевой переменной\n",
    "        y_pred (array): Массив значений с предсказанными значениями целевой переменной\n",
    "        y_prob (array): Массив значений с плотностями вероятности целевой переменной\n",
    "\n",
    "    Returns:\n",
    "        dict: Словарь с названием и значением метрики\n",
    "    \"\"\"\n",
    "    metrics = {}\n",
    "    \n",
    "    metrics['accuracy'] = accuracy_score(y_test, y_pred)\n",
    "    metrics['f1'] = f1_score(y_test, y_pred)\n",
    "    metrics['roc_auc'] = roc_auc_score(y_test, y_prob)  \n",
    "    metrics['confusion'] = confusion_matrix(y_test, y_pred)\n",
    "    \n",
    "    return metrics \n",
    "\n",
    "def roc_auc_graph(y_test, y_prob):\n",
    "    \"\"\"Процедура для визуализации ROC AUC\n",
    "\n",
    "    Args:\n",
    "        y_test (array): Массив значений с истинными значениями целевой переменной\n",
    "        y_prob (array): Массив значений с плотностями вероятности целевой переменной\n",
    "\n",
    "    \"\"\"\n",
    "    fpr, tpr, threshold = roc_curve(y_test, y_prob)\n",
    "    roc_auc = roc_auc_score(y_test, y_prob)\n",
    "    \n",
    "    plt.figure()\n",
    "    plt.plot([0, 1], label='Baseline', linestyle='--')\n",
    "    plt.plot(fpr, tpr, label = 'Regression')\n",
    "    plt.title('Logistic Regression ROC AUC = %0.6f' % roc_auc)\n",
    "    plt.ylabel('True Positive Rate')\n",
    "    plt.xlabel('False Positive Rate')\n",
    "    plt.legend(loc = 'lower right')\n",
    "    plt.show()"
   ]
  },
  {
   "cell_type": "markdown",
   "id": "dc1534ca",
   "metadata": {},
   "source": [
    "***1.4. Загрузка и первичное ознакомление с данными***"
   ]
  },
  {
   "cell_type": "code",
   "execution_count": 3,
   "id": "563d7e90",
   "metadata": {},
   "outputs": [],
   "source": [
    "# Чтение исходных данных\n",
    "df_train = pd.read_csv('./train.csv')\n",
    "df_test = pd.read_csv('./test.csv')"
   ]
  },
  {
   "cell_type": "code",
   "execution_count": 4,
   "id": "d6a59a00",
   "metadata": {},
   "outputs": [
    {
     "data": {
      "text/html": [
       "<div>\n",
       "<style scoped>\n",
       "    .dataframe tbody tr th:only-of-type {\n",
       "        vertical-align: middle;\n",
       "    }\n",
       "\n",
       "    .dataframe tbody tr th {\n",
       "        vertical-align: top;\n",
       "    }\n",
       "\n",
       "    .dataframe thead th {\n",
       "        text-align: right;\n",
       "    }\n",
       "</style>\n",
       "<table border=\"1\" class=\"dataframe\">\n",
       "  <thead>\n",
       "    <tr style=\"text-align: right;\">\n",
       "      <th></th>\n",
       "      <th>client_id</th>\n",
       "      <th>app_date</th>\n",
       "      <th>education</th>\n",
       "      <th>sex</th>\n",
       "      <th>age</th>\n",
       "      <th>car</th>\n",
       "      <th>car_type</th>\n",
       "      <th>decline_app_cnt</th>\n",
       "      <th>good_work</th>\n",
       "      <th>score_bki</th>\n",
       "      <th>bki_request_cnt</th>\n",
       "      <th>region_rating</th>\n",
       "      <th>home_address</th>\n",
       "      <th>work_address</th>\n",
       "      <th>income</th>\n",
       "      <th>sna</th>\n",
       "      <th>first_time</th>\n",
       "      <th>foreign_passport</th>\n",
       "      <th>default</th>\n",
       "    </tr>\n",
       "  </thead>\n",
       "  <tbody>\n",
       "    <tr>\n",
       "      <th>0</th>\n",
       "      <td>25905</td>\n",
       "      <td>01FEB2014</td>\n",
       "      <td>SCH</td>\n",
       "      <td>M</td>\n",
       "      <td>62</td>\n",
       "      <td>Y</td>\n",
       "      <td>Y</td>\n",
       "      <td>0</td>\n",
       "      <td>0</td>\n",
       "      <td>-2.008753</td>\n",
       "      <td>1</td>\n",
       "      <td>50</td>\n",
       "      <td>1</td>\n",
       "      <td>2</td>\n",
       "      <td>18000</td>\n",
       "      <td>4</td>\n",
       "      <td>1</td>\n",
       "      <td>N</td>\n",
       "      <td>0</td>\n",
       "    </tr>\n",
       "    <tr>\n",
       "      <th>1</th>\n",
       "      <td>63161</td>\n",
       "      <td>12MAR2014</td>\n",
       "      <td>SCH</td>\n",
       "      <td>F</td>\n",
       "      <td>59</td>\n",
       "      <td>N</td>\n",
       "      <td>N</td>\n",
       "      <td>0</td>\n",
       "      <td>0</td>\n",
       "      <td>-1.532276</td>\n",
       "      <td>3</td>\n",
       "      <td>50</td>\n",
       "      <td>2</td>\n",
       "      <td>3</td>\n",
       "      <td>19000</td>\n",
       "      <td>4</td>\n",
       "      <td>1</td>\n",
       "      <td>N</td>\n",
       "      <td>0</td>\n",
       "    </tr>\n",
       "    <tr>\n",
       "      <th>2</th>\n",
       "      <td>25887</td>\n",
       "      <td>01FEB2014</td>\n",
       "      <td>SCH</td>\n",
       "      <td>M</td>\n",
       "      <td>25</td>\n",
       "      <td>Y</td>\n",
       "      <td>N</td>\n",
       "      <td>2</td>\n",
       "      <td>0</td>\n",
       "      <td>-1.408142</td>\n",
       "      <td>1</td>\n",
       "      <td>80</td>\n",
       "      <td>1</td>\n",
       "      <td>2</td>\n",
       "      <td>30000</td>\n",
       "      <td>1</td>\n",
       "      <td>4</td>\n",
       "      <td>Y</td>\n",
       "      <td>0</td>\n",
       "    </tr>\n",
       "    <tr>\n",
       "      <th>3</th>\n",
       "      <td>16222</td>\n",
       "      <td>23JAN2014</td>\n",
       "      <td>SCH</td>\n",
       "      <td>F</td>\n",
       "      <td>53</td>\n",
       "      <td>N</td>\n",
       "      <td>N</td>\n",
       "      <td>0</td>\n",
       "      <td>0</td>\n",
       "      <td>-2.057471</td>\n",
       "      <td>2</td>\n",
       "      <td>50</td>\n",
       "      <td>2</td>\n",
       "      <td>3</td>\n",
       "      <td>10000</td>\n",
       "      <td>1</td>\n",
       "      <td>3</td>\n",
       "      <td>N</td>\n",
       "      <td>0</td>\n",
       "    </tr>\n",
       "    <tr>\n",
       "      <th>4</th>\n",
       "      <td>101655</td>\n",
       "      <td>18APR2014</td>\n",
       "      <td>GRD</td>\n",
       "      <td>M</td>\n",
       "      <td>48</td>\n",
       "      <td>N</td>\n",
       "      <td>N</td>\n",
       "      <td>0</td>\n",
       "      <td>1</td>\n",
       "      <td>-1.244723</td>\n",
       "      <td>1</td>\n",
       "      <td>60</td>\n",
       "      <td>2</td>\n",
       "      <td>3</td>\n",
       "      <td>30000</td>\n",
       "      <td>1</td>\n",
       "      <td>4</td>\n",
       "      <td>Y</td>\n",
       "      <td>0</td>\n",
       "    </tr>\n",
       "  </tbody>\n",
       "</table>\n",
       "</div>"
      ],
      "text/plain": [
       "   client_id   app_date education sex  age car car_type  decline_app_cnt  \\\n",
       "0      25905  01FEB2014       SCH   M   62   Y        Y                0   \n",
       "1      63161  12MAR2014       SCH   F   59   N        N                0   \n",
       "2      25887  01FEB2014       SCH   M   25   Y        N                2   \n",
       "3      16222  23JAN2014       SCH   F   53   N        N                0   \n",
       "4     101655  18APR2014       GRD   M   48   N        N                0   \n",
       "\n",
       "   good_work  score_bki  bki_request_cnt  region_rating  home_address  \\\n",
       "0          0  -2.008753                1             50             1   \n",
       "1          0  -1.532276                3             50             2   \n",
       "2          0  -1.408142                1             80             1   \n",
       "3          0  -2.057471                2             50             2   \n",
       "4          1  -1.244723                1             60             2   \n",
       "\n",
       "   work_address  income  sna  first_time foreign_passport  default  \n",
       "0             2   18000    4           1                N        0  \n",
       "1             3   19000    4           1                N        0  \n",
       "2             2   30000    1           4                Y        0  \n",
       "3             3   10000    1           3                N        0  \n",
       "4             3   30000    1           4                Y        0  "
      ]
     },
     "execution_count": 4,
     "metadata": {},
     "output_type": "execute_result"
    }
   ],
   "source": [
    "df_train.head()"
   ]
  },
  {
   "cell_type": "code",
   "execution_count": 5,
   "id": "f5c0a7bf",
   "metadata": {
    "scrolled": true
   },
   "outputs": [
    {
     "name": "stdout",
     "output_type": "stream",
     "text": [
      "<class 'pandas.core.frame.DataFrame'>\n",
      "RangeIndex: 73799 entries, 0 to 73798\n",
      "Data columns (total 19 columns):\n",
      " #   Column            Non-Null Count  Dtype  \n",
      "---  ------            --------------  -----  \n",
      " 0   client_id         73799 non-null  int64  \n",
      " 1   app_date          73799 non-null  object \n",
      " 2   education         73492 non-null  object \n",
      " 3   sex               73799 non-null  object \n",
      " 4   age               73799 non-null  int64  \n",
      " 5   car               73799 non-null  object \n",
      " 6   car_type          73799 non-null  object \n",
      " 7   decline_app_cnt   73799 non-null  int64  \n",
      " 8   good_work         73799 non-null  int64  \n",
      " 9   score_bki         73799 non-null  float64\n",
      " 10  bki_request_cnt   73799 non-null  int64  \n",
      " 11  region_rating     73799 non-null  int64  \n",
      " 12  home_address      73799 non-null  int64  \n",
      " 13  work_address      73799 non-null  int64  \n",
      " 14  income            73799 non-null  int64  \n",
      " 15  sna               73799 non-null  int64  \n",
      " 16  first_time        73799 non-null  int64  \n",
      " 17  foreign_passport  73799 non-null  object \n",
      " 18  default           73799 non-null  int64  \n",
      "dtypes: float64(1), int64(12), object(6)\n",
      "memory usage: 10.7+ MB\n"
     ]
    }
   ],
   "source": [
    "df_train.info()"
   ]
  },
  {
   "cell_type": "code",
   "execution_count": 6,
   "id": "b42df917",
   "metadata": {},
   "outputs": [
    {
     "data": {
      "text/html": [
       "<div>\n",
       "<style scoped>\n",
       "    .dataframe tbody tr th:only-of-type {\n",
       "        vertical-align: middle;\n",
       "    }\n",
       "\n",
       "    .dataframe tbody tr th {\n",
       "        vertical-align: top;\n",
       "    }\n",
       "\n",
       "    .dataframe thead th {\n",
       "        text-align: right;\n",
       "    }\n",
       "</style>\n",
       "<table border=\"1\" class=\"dataframe\">\n",
       "  <thead>\n",
       "    <tr style=\"text-align: right;\">\n",
       "      <th></th>\n",
       "      <th>client_id</th>\n",
       "      <th>app_date</th>\n",
       "      <th>education</th>\n",
       "      <th>sex</th>\n",
       "      <th>age</th>\n",
       "      <th>car</th>\n",
       "      <th>car_type</th>\n",
       "      <th>decline_app_cnt</th>\n",
       "      <th>good_work</th>\n",
       "      <th>score_bki</th>\n",
       "      <th>bki_request_cnt</th>\n",
       "      <th>region_rating</th>\n",
       "      <th>home_address</th>\n",
       "      <th>work_address</th>\n",
       "      <th>income</th>\n",
       "      <th>sna</th>\n",
       "      <th>first_time</th>\n",
       "      <th>foreign_passport</th>\n",
       "    </tr>\n",
       "  </thead>\n",
       "  <tbody>\n",
       "    <tr>\n",
       "      <th>0</th>\n",
       "      <td>74835</td>\n",
       "      <td>22MAR2014</td>\n",
       "      <td>GRD</td>\n",
       "      <td>M</td>\n",
       "      <td>29</td>\n",
       "      <td>Y</td>\n",
       "      <td>Y</td>\n",
       "      <td>0</td>\n",
       "      <td>0</td>\n",
       "      <td>-2.271884</td>\n",
       "      <td>3</td>\n",
       "      <td>50</td>\n",
       "      <td>1</td>\n",
       "      <td>2</td>\n",
       "      <td>50000</td>\n",
       "      <td>1</td>\n",
       "      <td>4</td>\n",
       "      <td>N</td>\n",
       "    </tr>\n",
       "    <tr>\n",
       "      <th>1</th>\n",
       "      <td>17527</td>\n",
       "      <td>24JAN2014</td>\n",
       "      <td>SCH</td>\n",
       "      <td>F</td>\n",
       "      <td>39</td>\n",
       "      <td>N</td>\n",
       "      <td>N</td>\n",
       "      <td>5</td>\n",
       "      <td>0</td>\n",
       "      <td>-1.504999</td>\n",
       "      <td>2</td>\n",
       "      <td>50</td>\n",
       "      <td>1</td>\n",
       "      <td>2</td>\n",
       "      <td>5000</td>\n",
       "      <td>4</td>\n",
       "      <td>3</td>\n",
       "      <td>N</td>\n",
       "    </tr>\n",
       "    <tr>\n",
       "      <th>2</th>\n",
       "      <td>75683</td>\n",
       "      <td>23MAR2014</td>\n",
       "      <td>UGR</td>\n",
       "      <td>M</td>\n",
       "      <td>50</td>\n",
       "      <td>Y</td>\n",
       "      <td>Y</td>\n",
       "      <td>0</td>\n",
       "      <td>0</td>\n",
       "      <td>-1.691339</td>\n",
       "      <td>1</td>\n",
       "      <td>50</td>\n",
       "      <td>1</td>\n",
       "      <td>2</td>\n",
       "      <td>30000</td>\n",
       "      <td>1</td>\n",
       "      <td>3</td>\n",
       "      <td>Y</td>\n",
       "    </tr>\n",
       "    <tr>\n",
       "      <th>3</th>\n",
       "      <td>26883</td>\n",
       "      <td>03FEB2014</td>\n",
       "      <td>SCH</td>\n",
       "      <td>M</td>\n",
       "      <td>56</td>\n",
       "      <td>N</td>\n",
       "      <td>N</td>\n",
       "      <td>0</td>\n",
       "      <td>0</td>\n",
       "      <td>-2.374182</td>\n",
       "      <td>1</td>\n",
       "      <td>40</td>\n",
       "      <td>1</td>\n",
       "      <td>2</td>\n",
       "      <td>17000</td>\n",
       "      <td>1</td>\n",
       "      <td>3</td>\n",
       "      <td>N</td>\n",
       "    </tr>\n",
       "    <tr>\n",
       "      <th>4</th>\n",
       "      <td>28862</td>\n",
       "      <td>04FEB2014</td>\n",
       "      <td>GRD</td>\n",
       "      <td>F</td>\n",
       "      <td>38</td>\n",
       "      <td>N</td>\n",
       "      <td>N</td>\n",
       "      <td>0</td>\n",
       "      <td>0</td>\n",
       "      <td>-2.487502</td>\n",
       "      <td>0</td>\n",
       "      <td>80</td>\n",
       "      <td>2</td>\n",
       "      <td>3</td>\n",
       "      <td>120000</td>\n",
       "      <td>1</td>\n",
       "      <td>3</td>\n",
       "      <td>N</td>\n",
       "    </tr>\n",
       "  </tbody>\n",
       "</table>\n",
       "</div>"
      ],
      "text/plain": [
       "   client_id   app_date education sex  age car car_type  decline_app_cnt  \\\n",
       "0      74835  22MAR2014       GRD   M   29   Y        Y                0   \n",
       "1      17527  24JAN2014       SCH   F   39   N        N                5   \n",
       "2      75683  23MAR2014       UGR   M   50   Y        Y                0   \n",
       "3      26883  03FEB2014       SCH   M   56   N        N                0   \n",
       "4      28862  04FEB2014       GRD   F   38   N        N                0   \n",
       "\n",
       "   good_work  score_bki  bki_request_cnt  region_rating  home_address  \\\n",
       "0          0  -2.271884                3             50             1   \n",
       "1          0  -1.504999                2             50             1   \n",
       "2          0  -1.691339                1             50             1   \n",
       "3          0  -2.374182                1             40             1   \n",
       "4          0  -2.487502                0             80             2   \n",
       "\n",
       "   work_address  income  sna  first_time foreign_passport  \n",
       "0             2   50000    1           4                N  \n",
       "1             2    5000    4           3                N  \n",
       "2             2   30000    1           3                Y  \n",
       "3             2   17000    1           3                N  \n",
       "4             3  120000    1           3                N  "
      ]
     },
     "execution_count": 6,
     "metadata": {},
     "output_type": "execute_result"
    }
   ],
   "source": [
    "df_test.head()"
   ]
  },
  {
   "cell_type": "code",
   "execution_count": 7,
   "id": "0eda0d5e",
   "metadata": {},
   "outputs": [
    {
     "name": "stdout",
     "output_type": "stream",
     "text": [
      "<class 'pandas.core.frame.DataFrame'>\n",
      "RangeIndex: 36349 entries, 0 to 36348\n",
      "Data columns (total 18 columns):\n",
      " #   Column            Non-Null Count  Dtype  \n",
      "---  ------            --------------  -----  \n",
      " 0   client_id         36349 non-null  int64  \n",
      " 1   app_date          36349 non-null  object \n",
      " 2   education         36178 non-null  object \n",
      " 3   sex               36349 non-null  object \n",
      " 4   age               36349 non-null  int64  \n",
      " 5   car               36349 non-null  object \n",
      " 6   car_type          36349 non-null  object \n",
      " 7   decline_app_cnt   36349 non-null  int64  \n",
      " 8   good_work         36349 non-null  int64  \n",
      " 9   score_bki         36349 non-null  float64\n",
      " 10  bki_request_cnt   36349 non-null  int64  \n",
      " 11  region_rating     36349 non-null  int64  \n",
      " 12  home_address      36349 non-null  int64  \n",
      " 13  work_address      36349 non-null  int64  \n",
      " 14  income            36349 non-null  int64  \n",
      " 15  sna               36349 non-null  int64  \n",
      " 16  first_time        36349 non-null  int64  \n",
      " 17  foreign_passport  36349 non-null  object \n",
      "dtypes: float64(1), int64(11), object(6)\n",
      "memory usage: 5.0+ MB\n"
     ]
    }
   ],
   "source": [
    "df_test.info()"
   ]
  },
  {
   "cell_type": "markdown",
   "id": "8eb78ebb",
   "metadata": {},
   "source": [
    "***Вывод:***  По результатам первичного ознакомления с данными, можно сделать вывод, что требуется проведение предобработки данных."
   ]
  },
  {
   "cell_type": "markdown",
   "id": "6e4a797c",
   "metadata": {},
   "source": [
    "***1.5. Подготовка данных к предобработке***"
   ]
  },
  {
   "cell_type": "markdown",
   "id": "4ddaade5",
   "metadata": {},
   "source": [
    "Дополним датафрейм *df_train* недостающим реквизитом *default* с нулевыми значениями для полследующего объединения исходных датафреймов (по условиям задания). Также введем в обе исходные таблицы признак *sample* для возможности последующего обратного разбиения общего датафрейма на обучающую и тестовую выборку."
   ]
  },
  {
   "cell_type": "code",
   "execution_count": 8,
   "id": "942b7214",
   "metadata": {},
   "outputs": [
    {
     "name": "stdout",
     "output_type": "stream",
     "text": [
      "<class 'pandas.core.frame.DataFrame'>\n",
      "RangeIndex: 110148 entries, 0 to 110147\n",
      "Data columns (total 20 columns):\n",
      " #   Column            Non-Null Count   Dtype  \n",
      "---  ------            --------------   -----  \n",
      " 0   client_id         110148 non-null  int64  \n",
      " 1   app_date          110148 non-null  object \n",
      " 2   education         109670 non-null  object \n",
      " 3   sex               110148 non-null  object \n",
      " 4   age               110148 non-null  int64  \n",
      " 5   car               110148 non-null  object \n",
      " 6   car_type          110148 non-null  object \n",
      " 7   decline_app_cnt   110148 non-null  int64  \n",
      " 8   good_work         110148 non-null  int64  \n",
      " 9   score_bki         110148 non-null  float64\n",
      " 10  bki_request_cnt   110148 non-null  int64  \n",
      " 11  region_rating     110148 non-null  int64  \n",
      " 12  home_address      110148 non-null  int64  \n",
      " 13  work_address      110148 non-null  int64  \n",
      " 14  income            110148 non-null  int64  \n",
      " 15  sna               110148 non-null  int64  \n",
      " 16  first_time        110148 non-null  int64  \n",
      " 17  foreign_passport  110148 non-null  object \n",
      " 18  default           110148 non-null  int64  \n",
      " 19  sample            110148 non-null  int64  \n",
      "dtypes: float64(1), int64(13), object(6)\n",
      "memory usage: 16.8+ MB\n"
     ]
    }
   ],
   "source": [
    "df_train['sample'] = 1\n",
    "df_test['default'] = 0\n",
    "df_test['sample'] = 0\n",
    "\n",
    "df = pd.concat([df_train, df_test], axis=0, ignore_index=True)\n",
    "df.info()"
   ]
  },
  {
   "cell_type": "markdown",
   "id": "28d5255f",
   "metadata": {},
   "source": [
    "Теперь датасет готов к проведению предобработки данных."
   ]
  },
  {
   "cell_type": "markdown",
   "id": "5b1f16b7",
   "metadata": {},
   "source": [
    "**2. Переобработка данных**"
   ]
  },
  {
   "cell_type": "markdown",
   "id": "3f16a968",
   "metadata": {},
   "source": [
    "***2.1. Анализ пропусков данных***"
   ]
  },
  {
   "cell_type": "code",
   "execution_count": 9,
   "id": "eb9abbdb",
   "metadata": {},
   "outputs": [
    {
     "data": {
      "text/plain": [
       "client_id             0\n",
       "app_date              0\n",
       "education           478\n",
       "sex                   0\n",
       "age                   0\n",
       "car                   0\n",
       "car_type              0\n",
       "decline_app_cnt       0\n",
       "good_work             0\n",
       "score_bki             0\n",
       "bki_request_cnt       0\n",
       "region_rating         0\n",
       "home_address          0\n",
       "work_address          0\n",
       "income                0\n",
       "sna                   0\n",
       "first_time            0\n",
       "foreign_passport      0\n",
       "default               0\n",
       "sample                0\n",
       "dtype: int64"
      ]
     },
     "execution_count": 9,
     "metadata": {},
     "output_type": "execute_result"
    }
   ],
   "source": [
    "df.isnull().sum()"
   ]
  },
  {
   "cell_type": "markdown",
   "id": "e27dbfbb",
   "metadata": {},
   "source": [
    "***Вывод:*** Пропуски данных найдены только в поле *education*. Учтем это далее при обработке данного признака."
   ]
  },
  {
   "cell_type": "markdown",
   "id": "8dd9c254",
   "metadata": {},
   "source": [
    "***2.2. Подробный анализ признаков***"
   ]
  },
  {
   "cell_type": "markdown",
   "id": "a76ea15b",
   "metadata": {},
   "source": [
    "Проверим уникальность признаков датасета."
   ]
  },
  {
   "cell_type": "code",
   "execution_count": 10,
   "id": "7d6b8088",
   "metadata": {},
   "outputs": [
    {
     "data": {
      "text/plain": [
       "client_id           110148\n",
       "app_date               120\n",
       "education                6\n",
       "sex                      2\n",
       "age                     52\n",
       "car                      2\n",
       "car_type                 2\n",
       "decline_app_cnt         24\n",
       "good_work                2\n",
       "score_bki           102618\n",
       "bki_request_cnt         40\n",
       "region_rating            7\n",
       "home_address             3\n",
       "work_address             3\n",
       "income                1207\n",
       "sna                      4\n",
       "first_time               4\n",
       "foreign_passport         2\n",
       "default                  2\n",
       "sample                   2\n",
       "dtype: int64"
      ]
     },
     "execution_count": 10,
     "metadata": {},
     "output_type": "execute_result"
    }
   ],
   "source": [
    "df.nunique(dropna=False)"
   ]
  },
  {
   "cell_type": "markdown",
   "id": "a964da02",
   "metadata": {},
   "source": [
    "***Выводы.*** \n",
    "- Полностью уникальным признаком дата является *client_id*. \n",
    "- Достаточно уникальным является ппризнак *score_bki*. \n",
    "- Большое количество уникальных значений обнаружено у признака *income*. \n",
    "- Несколько десятков значений присутствует у признаков *app_date*, *age*, *bki_request_cnt*, *decline_app_cnt*. \n",
    "- Остальные признаки имеют небольшое количество уникальных знечений и скорее всего будут отнесены к категориальным или бинарным.\n",
    "\n",
    "Учтем вышеприведенные выводы при подробном анализе вех признаков датасета. Все интересующие нас предобработанные признаки мы будем вносить в списки-переменные:\n",
    "- num_cols - числовые признаки,\n",
    "- cat_cols - категориальные признаки, \n",
    "- bin_cols - бинарные признаки."
   ]
  },
  {
   "cell_type": "markdown",
   "id": "6e9bdd09",
   "metadata": {},
   "source": [
    "***2.2.1. Признак client_id - идентификатор клиента***"
   ]
  },
  {
   "cell_type": "markdown",
   "id": "d6e56dd3",
   "metadata": {},
   "source": [
    "Признак *client_id*, как следует из анализа уникальности признаков, является полностью уникальным. Т.е. в предложенном датасете каждая запись соответствует индивидуальному заемщику банка. Т.к. данное значение не несет полезной информации для для обучения создаваемой модели скоринга, то исключим данный признак из списка интересующих нас для постоения модели реквизитов."
   ]
  },
  {
   "cell_type": "markdown",
   "id": "ab0cd03c",
   "metadata": {},
   "source": [
    "***Вывод.*** Признак *client_id* не будет использоваться при обучении модели."
   ]
  },
  {
   "cell_type": "markdown",
   "id": "fbf1046c",
   "metadata": {},
   "source": [
    "***2.2.2. Признак app_date - дата подачи заявки***"
   ]
  },
  {
   "cell_type": "markdown",
   "id": "fbe6134e",
   "metadata": {},
   "source": [
    "Дата подачи заявки может быть полезна для обучаемой модели, если ее разбить на составные части - дни, месяцы и годы и использовать отдельные копоненты даты как числовые признаки. Проведем данную предобработку. Начнем с выделени года."
   ]
  },
  {
   "cell_type": "code",
   "execution_count": 11,
   "id": "6334dc2d",
   "metadata": {},
   "outputs": [
    {
     "data": {
      "text/plain": [
       "2014    110148\n",
       "Name: app_year, dtype: int64"
      ]
     },
     "execution_count": 11,
     "metadata": {},
     "output_type": "execute_result"
    }
   ],
   "source": [
    "df['app_date'] = pd.to_datetime(df['app_date'])\n",
    "df['app_year'] = df['app_date'].dt.year\n",
    "df['app_year'].value_counts()"
   ]
  },
  {
   "cell_type": "markdown",
   "id": "8a435090",
   "metadata": {},
   "source": [
    "Видно, что в предложенных нам данных присутствует только одно значение года - 2014 г. Для обучения модели скоринга данное неизменное значение не несет полезной информации. Исключаем это значение из параметров для рассмотрения. Далее выделяем и анализируем значение месяца."
   ]
  },
  {
   "cell_type": "code",
   "execution_count": 12,
   "id": "797a0f32",
   "metadata": {},
   "outputs": [
    {
     "data": {
      "text/plain": [
       "3    31597\n",
       "2    27097\n",
       "4    26266\n",
       "1    25188\n",
       "Name: app_month, dtype: int64"
      ]
     },
     "execution_count": 12,
     "metadata": {},
     "output_type": "execute_result"
    }
   ],
   "source": [
    "df['app_month'] = df['app_date'].dt.month\n",
    "df['app_month'].value_counts()"
   ]
  },
  {
   "cell_type": "markdown",
   "id": "cff985af",
   "metadata": {},
   "source": [
    "Из результатов видно, что данные в датасете представлены только за январь - апрель 2014 г. Это не все месяцы года, но между тем, этот признак мы можем использовать в обучаемой модели. Будем считать признак *app_month* числовым. Выделим из исходной даты день недели."
   ]
  },
  {
   "cell_type": "code",
   "execution_count": 13,
   "id": "9d47eafe",
   "metadata": {},
   "outputs": [
    {
     "data": {
      "text/plain": [
       "31"
      ]
     },
     "execution_count": 13,
     "metadata": {},
     "output_type": "execute_result"
    }
   ],
   "source": [
    "df['app_day'] = df['app_date'].dt.day\n",
    "len(df['app_day'].value_counts())"
   ]
  },
  {
   "cell_type": "markdown",
   "id": "6ed5f416",
   "metadata": {},
   "source": [
    "Получили, что в данных присутствуют все возможные дни месяца. Будем использовать это признак в модели как числовой. Остальные признаки связаные с датой - удаляем."
   ]
  },
  {
   "cell_type": "code",
   "execution_count": 14,
   "id": "77dd4e6e",
   "metadata": {},
   "outputs": [],
   "source": [
    "num_cols.append('app_month')\n",
    "num_cols.append('app_day')\n",
    "df.drop(['app_date','app_year'], axis=1, inplace=True)"
   ]
  },
  {
   "cell_type": "markdown",
   "id": "c3911545",
   "metadata": {},
   "source": [
    "***Вывод.*** Из признака *app_date* для обучения модели выделены числовые значения дня и месяца."
   ]
  },
  {
   "cell_type": "markdown",
   "id": "146919ab",
   "metadata": {},
   "source": [
    "***2.2.3. Признак education - уровень образования***"
   ]
  },
  {
   "cell_type": "markdown",
   "id": "a8de76eb",
   "metadata": {},
   "source": [
    "Данный признак имеет небольшое количество уникальных значений. Рассмотрим их значения более подробно."
   ]
  },
  {
   "cell_type": "code",
   "execution_count": 15,
   "id": "f9fe5455",
   "metadata": {},
   "outputs": [
    {
     "data": {
      "text/plain": [
       "SCH    57998\n",
       "GRD    34768\n",
       "UGR    14748\n",
       "PGR     1865\n",
       "ACD      291\n",
       "Name: education, dtype: int64"
      ]
     },
     "execution_count": 15,
     "metadata": {},
     "output_type": "execute_result"
    }
   ],
   "source": [
    "df['education'].value_counts()"
   ]
  },
  {
   "cell_type": "markdown",
   "id": "68198872",
   "metadata": {},
   "source": [
    "Из найденных внешник источников, нам известны расшифровки данных значений: \n",
    "- SCH - только школа, \n",
    "- GRD - бакалавр, \n",
    "- UGR - магистр, \n",
    "- PGR - магистр+стажировка, \n",
    "- ACD - высшая категория образования\n",
    "\n",
    "Обращаем внимание, что максимальное количество значений данного параметра у заемщиков имеющих только школьное образование.\n",
    "\n",
    "Из п.2.1. нам известно, что в данном признаке присутствуют пропуски. Исходя из предположения, что заемщики должны иметь хотя бы школьное образование, заполним пропуски значением \"SCH\" и посмотрим результирующее распределение признака *education*."
   ]
  },
  {
   "cell_type": "code",
   "execution_count": 16,
   "id": "384f6b8e",
   "metadata": {},
   "outputs": [
    {
     "data": {
      "image/png": "[encoded data removed]",
      "text/plain": [
       "<Figure size 432x288 with 1 Axes>"
      ]
     },
     "metadata": {
      "needs_background": "light"
     },
     "output_type": "display_data"
    }
   ],
   "source": [
    "df['education'] = df.education.fillna('SCH')\n",
    "sns.countplot(data=df, x=df['education']).set(title='Распределение уровня образования заемщиков');"
   ]
  },
  {
   "cell_type": "markdown",
   "id": "9f05f911",
   "metadata": {},
   "source": [
    "По результатм анализа видно, что признак *education* имеет явную категориальную структуру. Учтем его в списке категориальных признаков для дальнейшей групповой обработки."
   ]
  },
  {
   "cell_type": "code",
   "execution_count": 17,
   "id": "364919d8",
   "metadata": {},
   "outputs": [],
   "source": [
    "cat_cols.append('education')"
   ]
  },
  {
   "cell_type": "markdown",
   "id": "e859aae6",
   "metadata": {},
   "source": [
    "***Выводы.***\n",
    "- В признаке *education* произведено заполнение пропусков.\n",
    "- Признак *education* является категориальным."
   ]
  },
  {
   "cell_type": "markdown",
   "id": "3792c489",
   "metadata": {},
   "source": [
    "***2.2.4. Признак sex - пол заемщика***"
   ]
  },
  {
   "cell_type": "markdown",
   "id": "51c1ed1f",
   "metadata": {},
   "source": [
    "Уникальных значений данного признака всего две. Ожидаемо, что это будет бинарный реквизит. Посмотрим его рапределение."
   ]
  },
  {
   "cell_type": "code",
   "execution_count": 18,
   "id": "35a26e48",
   "metadata": {},
   "outputs": [
    {
     "name": "stdout",
     "output_type": "stream",
     "text": [
      "F    61836\n",
      "M    48312\n",
      "Name: sex, dtype: int64\n"
     ]
    },
    {
     "data": {
      "image/png": "[encoded data removed]",
      "text/plain": [
       "<Figure size 432x288 with 1 Axes>"
      ]
     },
     "metadata": {
      "needs_background": "light"
     },
     "output_type": "display_data"
    }
   ],
   "source": [
    "print(df['sex'].value_counts())\n",
    "sns.countplot(data=df, x=df['sex']).set(title='Распределение пола заемщика');"
   ]
  },
  {
   "cell_type": "markdown",
   "id": "cfe5996c",
   "metadata": {},
   "source": [
    "где, M - мужчины, F - женщины. Из этого явно вытекает, что признак бинарный. Зафиксируем это в соответсвующем списке признаков."
   ]
  },
  {
   "cell_type": "code",
   "execution_count": 19,
   "id": "184526ef",
   "metadata": {},
   "outputs": [],
   "source": [
    "bin_cols.append('sex')"
   ]
  },
  {
   "cell_type": "markdown",
   "id": "517867b6",
   "metadata": {},
   "source": [
    "***Выводы.***\n",
    "- Из анализа разпределения признака *sex* получается женщин в предложенной выборке немного больше.\n",
    "- Признак *sex* - бинарный."
   ]
  },
  {
   "cell_type": "markdown",
   "id": "513ce095",
   "metadata": {},
   "source": [
    "***2.2.5. Признак age - возраст заемщика***"
   ]
  },
  {
   "cell_type": "markdown",
   "id": "b24cbf4b",
   "metadata": {},
   "source": [
    "Изначально признак *age* числовой. Визуализируем его для анализа."
   ]
  },
  {
   "cell_type": "code",
   "execution_count": 20,
   "id": "df0eb184",
   "metadata": {},
   "outputs": [
    {
     "data": {
      "image/png": "[encoded data removed]",
      "text/plain": [
       "<Figure size 1008x360 with 2 Axes>"
      ]
     },
     "metadata": {
      "needs_background": "light"
     },
     "output_type": "display_data"
    }
   ],
   "source": [
    " \n",
    "number_graph(df, df['age'], 'Распределение возраста заемщиков')"
   ]
  },
  {
   "cell_type": "markdown",
   "id": "67248625",
   "metadata": {},
   "source": [
    "По гистограмме видно, что максимальное количество заемщиков имеет возраст порядка 30 лет. Далее эта величина почти равномерно снижается до нуля для заемщиков с возрастом ~70 лет. Виден небольшой пик в районе 50 лет. По boxplot-графикам можно сделать выводы, что значения возрастов для дефолтных и не дефолтных клиентов достаточно близки как по медиане, так и по граничным значениям."
   ]
  },
  {
   "cell_type": "markdown",
   "id": "7754a588",
   "metadata": {},
   "source": [
    "Данный признак может быть достаточно значимым для модели скоринга. Включаем его в список числовых признаков."
   ]
  },
  {
   "cell_type": "code",
   "execution_count": 21,
   "id": "353fc216",
   "metadata": {},
   "outputs": [],
   "source": [
    "num_cols.append('age')"
   ]
  },
  {
   "cell_type": "markdown",
   "id": "5ec831cb",
   "metadata": {},
   "source": [
    "***Выводы.***\n",
    "- Распределение признака *age* в датасете не является нормальным.\n",
    "- Распределение при знака *age* по отношению к целевому признаку *default* достаточно сбалансированно.\n",
    "- Признак *age* является числовым."
   ]
  },
  {
   "cell_type": "markdown",
   "id": "c8f022a0",
   "metadata": {},
   "source": [
    "***2.2.6. Признак *car* - флаг наличия автомобиля у заемщика***"
   ]
  },
  {
   "cell_type": "markdown",
   "id": "6ec553bd",
   "metadata": {},
   "source": [
    "Признак *car* имее два уникальных значения. Предполагется, что он может быть бинарным. Проверим это утверждение."
   ]
  },
  {
   "cell_type": "code",
   "execution_count": 22,
   "id": "0ac94fe1",
   "metadata": {},
   "outputs": [
    {
     "name": "stdout",
     "output_type": "stream",
     "text": [
      "N    74290\n",
      "Y    35858\n",
      "Name: car, dtype: int64\n"
     ]
    },
    {
     "data": {
      "image/png": "[encoded data removed]",
      "text/plain": [
       "<Figure size 432x288 with 1 Axes>"
      ]
     },
     "metadata": {
      "needs_background": "light"
     },
     "output_type": "display_data"
    }
   ],
   "source": [
    "print(df['car'].value_counts())\n",
    "sns.countplot(data=df, x=df['car']).set(title='Распределение по наличию автомобиля у заемщиков');"
   ]
  },
  {
   "cell_type": "markdown",
   "id": "3e7aa284",
   "metadata": {},
   "source": [
    "где, Y - есть автомобиль, N - нет автомобиля. Использование 2-х значений Y/N говорит о бинарности признака. Включим его в соответствующий смисок признаков для дальнейшей обработки. "
   ]
  },
  {
   "cell_type": "code",
   "execution_count": 23,
   "id": "e374955f",
   "metadata": {},
   "outputs": [],
   "source": [
    "bin_cols.append('car')"
   ]
  },
  {
   "cell_type": "markdown",
   "id": "4647c1b0",
   "metadata": {},
   "source": [
    "***Выводы.***\n",
    "1. Заемщиков без автомобиля в датасете больше.\n",
    "2. Признак *car* является бинарным."
   ]
  },
  {
   "cell_type": "markdown",
   "id": "c61771f5",
   "metadata": {},
   "source": [
    "***2.2.7. Признак *car_type* - флаг автомобиля-иномарки***"
   ]
  },
  {
   "cell_type": "markdown",
   "id": "5b5fee64",
   "metadata": {},
   "source": [
    "Данный признак аналогичен по свойствам предыдущему. Поведем с ним те же операции."
   ]
  },
  {
   "cell_type": "code",
   "execution_count": 24,
   "id": "29ad761a",
   "metadata": {},
   "outputs": [
    {
     "name": "stdout",
     "output_type": "stream",
     "text": [
      "N    89140\n",
      "Y    21008\n",
      "Name: car_type, dtype: int64\n"
     ]
    },
    {
     "data": {
      "image/png": "[encoded data removed]",
      "text/plain": [
       "<Figure size 432x288 with 1 Axes>"
      ]
     },
     "metadata": {
      "needs_background": "light"
     },
     "output_type": "display_data"
    }
   ],
   "source": [
    "print(df['car_type'].value_counts())\n",
    "sns.countplot(data=df, x=df['car_type']).set(title='Распределение по признаку автомобиля-иномарки');"
   ]
  },
  {
   "cell_type": "markdown",
   "id": "3b884bde",
   "metadata": {},
   "source": [
    "где, Y - у заемщика автомобиль-иномарка, N - у заемщика не автомобиль-иномарка. Использование значений Y/N говорит о бинарности признака. Включим его в список бинарных признаков."
   ]
  },
  {
   "cell_type": "code",
   "execution_count": 25,
   "id": "3c4b5cac",
   "metadata": {},
   "outputs": [],
   "source": [
    "bin_cols.append('car_type')"
   ]
  },
  {
   "cell_type": "markdown",
   "id": "3868fd64",
   "metadata": {},
   "source": [
    "*Примечание 1.* Т.к. признак *car_type* может иметь смысл при рассмотрении только при наличии у займщика автомобиля *car*, то можно говорить о наличии логической связи между данными признаками."
   ]
  },
  {
   "cell_type": "markdown",
   "id": "42e7672f",
   "metadata": {},
   "source": [
    "*Примечание 2.* Рассмотрим так же распредление заемщиков с автомобилями-иномарками по отношению к нашему целевому признаку *default*."
   ]
  },
  {
   "cell_type": "code",
   "execution_count": 26,
   "id": "05af4425",
   "metadata": {},
   "outputs": [
    {
     "data": {
      "image/png": "[encoded data removed]",
      "text/plain": [
       "<Figure size 432x288 with 1 Axes>"
      ]
     },
     "metadata": {
      "needs_background": "light"
     },
     "output_type": "display_data"
    }
   ],
   "source": [
    "df_foreign = df[df['car_type'] == 'Y']\n",
    "sns.countplot(data=df_foreign, x=df_foreign['default'], hue=df_foreign['car_type']).set(title='Распределение по заемщикам с автомобилями-иномаркам');"
   ]
  },
  {
   "cell_type": "markdown",
   "id": "b46dbf3e",
   "metadata": {},
   "source": [
    "Из приведенного графика видно, что дефолты у заемщиков с автомобилями-иномарками значительно реже. Данная информация может быть интересна сотрудникам банка при определении оперативных критериев оценки дефолтов заемщиков. "
   ]
  },
  {
   "cell_type": "markdown",
   "id": "86ececb4",
   "metadata": {},
   "source": [
    "***Выводы.***\n",
    "1. Примерно 20% заемщиков из датасета имеют автомобили-иномарки.\n",
    "2. Дефолты у заемщиков с автомобилями-иномарками достаочно редкое явление.\n",
    "3. Признак *car_type* является бинарным."
   ]
  },
  {
   "cell_type": "markdown",
   "id": "a873ed83",
   "metadata": {},
   "source": [
    "***2.2.8. Признак decline_app_cnt - количество прошлых отказанных заявок***"
   ]
  },
  {
   "cell_type": "markdown",
   "id": "e07f49b4",
   "metadata": {},
   "source": [
    "Признак изначально имеет числовое знчение. Рассмотрим его значения графически более подробно."
   ]
  },
  {
   "cell_type": "code",
   "execution_count": 27,
   "id": "5a4c3d4a",
   "metadata": {},
   "outputs": [
    {
     "data": {
      "image/png": "[encoded data removed]",
      "text/plain": [
       "<Figure size 1008x360 with 2 Axes>"
      ]
     },
     "metadata": {
      "needs_background": "light"
     },
     "output_type": "display_data"
    }
   ],
   "source": [
    "number_graph(df, df['decline_app_cnt'], 'Распределение количества отказов')"
   ]
  },
  {
   "cell_type": "markdown",
   "id": "c1c366ce",
   "metadata": {},
   "source": [
    "В гистограмме явно виден значительный дисбаланс значений признака. Подавляющее количество значений находяться в нуле. В boxplot'е видно большое количество выбросов. Нужна предобработка этого признака. Для этого проанализируем выбросы."
   ]
  },
  {
   "cell_type": "code",
   "execution_count": 28,
   "id": "d70208c1",
   "metadata": {},
   "outputs": [
    {
     "name": "stdout",
     "output_type": "stream",
     "text": [
      "Выбросы: 18677 (16.96%)\n"
     ]
    }
   ],
   "source": [
    "print_outliers(df, outliers(df['decline_app_cnt'])[0])"
   ]
  },
  {
   "cell_type": "markdown",
   "id": "8efaf743",
   "metadata": {},
   "source": [
    "Полученное количество выбросов достаточно велико, для того чтобы просто удалить связанные строки датасета. Рассмотрим более детально уникальные значения данного признака."
   ]
  },
  {
   "cell_type": "code",
   "execution_count": 29,
   "id": "fcf90a7c",
   "metadata": {},
   "outputs": [
    {
     "data": {
      "text/plain": [
       "0     91471\n",
       "1     12500\n",
       "2      3622\n",
       "3      1365\n",
       "4       606\n",
       "5       255\n",
       "6       156\n",
       "7        58\n",
       "8        37\n",
       "9        29\n",
       "10       16\n",
       "11       10\n",
       "12        5\n",
       "13        4\n",
       "14        3\n",
       "16        3\n",
       "24        1\n",
       "30        1\n",
       "21        1\n",
       "19        1\n",
       "15        1\n",
       "33        1\n",
       "22        1\n",
       "20        1\n",
       "Name: decline_app_cnt, dtype: int64"
      ]
     },
     "execution_count": 29,
     "metadata": {},
     "output_type": "execute_result"
    }
   ],
   "source": [
    "df['decline_app_cnt'].value_counts()"
   ]
  },
  {
   "cell_type": "markdown",
   "id": "7b927dfd",
   "metadata": {},
   "source": [
    "Видно, что в первых четырех значениях сосредоточено почти 99% строк датасета. С учетом \n",
    "полученного распределения уникальных значений, признак можно считать категориальным со значениями 0,1,2,3, и с отнесением всех значений мнее 1% общего числа записей в дататасете (менее 1100) к категории 4. Выполним описанные преобразования и визиализируем результат."
   ]
  },
  {
   "cell_type": "code",
   "execution_count": 30,
   "id": "12fa768b",
   "metadata": {},
   "outputs": [
    {
     "data": {
      "image/png": "[encoded data removed]",
      "text/plain": [
       "<Figure size 432x288 with 1 Axes>"
      ]
     },
     "metadata": {
      "needs_background": "light"
     },
     "output_type": "display_data"
    }
   ],
   "source": [
    "df['decline_app_cnt'] = df['decline_app_cnt'].apply(lambda x: x if x < 4 else 4)\n",
    "sns.countplot(data=df, x=df['decline_app_cnt']).set(title='Распределение количества отказов (после обработки)');"
   ]
  },
  {
   "cell_type": "markdown",
   "id": "0b087899",
   "metadata": {},
   "source": [
    "Получили категориальный признак, который занесем в соответствующий список признаков для последующей окончательной обработки."
   ]
  },
  {
   "cell_type": "code",
   "execution_count": 31,
   "id": "180a8bec",
   "metadata": {},
   "outputs": [],
   "source": [
    "cat_cols.append('decline_app_cnt')"
   ]
  },
  {
   "cell_type": "markdown",
   "id": "c83260da",
   "metadata": {},
   "source": [
    "***Выводы.***\n",
    "1. Количество заемщиков, у которых не было отказов значительно преобладает над остальными категориями.\n",
    "2. Признак *decline_app_cnt* категориальный. Проведена обработка для ограничения количества категорий."
   ]
  },
  {
   "cell_type": "markdown",
   "id": "715cee30",
   "metadata": {},
   "source": [
    "***2.2.9. Признак good_work - флаг наличия “хорошей” работы***"
   ]
  },
  {
   "cell_type": "markdown",
   "id": "f054edd8",
   "metadata": {},
   "source": [
    "Числовое значение из п.1.5. и два уникальных значения из п.2.2. для данного признака говорят о его бинарности. Проверим это утверждение."
   ]
  },
  {
   "cell_type": "code",
   "execution_count": 32,
   "id": "ae1ee322",
   "metadata": {},
   "outputs": [
    {
     "data": {
      "image/png": "[encoded data removed]",
      "text/plain": [
       "<Figure size 432x288 with 1 Axes>"
      ]
     },
     "metadata": {
      "needs_background": "light"
     },
     "output_type": "display_data"
    }
   ],
   "source": [
    "sns.countplot(data=df, x=df['good_work']).set(title='Распределение по признаку наличия \"хорошей\" работы');"
   ]
  },
  {
   "cell_type": "markdown",
   "id": "8958b535",
   "metadata": {},
   "source": [
    "где *good_work*: 0 - у заемщика нет \"хорошей\" работы, 1 - у заемщика есть \"хорошая\" работа. Не очень ясен критерий банка \"хорошая\" работа, но он может пригодится для обучения модели скоринга. Зафиксируем данный признак в списке бинарных признаков. Он те требует дополнительной обработки. "
   ]
  },
  {
   "cell_type": "code",
   "execution_count": 33,
   "id": "a17864da",
   "metadata": {},
   "outputs": [],
   "source": [
    "bin_cols.append('good_work')"
   ]
  },
  {
   "cell_type": "markdown",
   "id": "8535b5dc",
   "metadata": {},
   "source": [
    "***Выводы.***\n",
    "1. Заемщики не имеющие \"хорошую\" работу преобладают в предложенном датасете.\n",
    "2. Признак *good_work* - бинарный."
   ]
  },
  {
   "cell_type": "markdown",
   "id": "8d3e852e",
   "metadata": {},
   "source": [
    "***2.2.10. Признак score_bki - скоринговый балл по данным из БКИ***"
   ]
  },
  {
   "cell_type": "markdown",
   "id": "d7f908ce",
   "metadata": {},
   "source": [
    "Единственный признак в структуре данных имеющий тип float64 - числовой с плавающей точкой. Т.к. данный признак имее множество уникальных значений (см. п.2.2.), то проанализируем его графически.  "
   ]
  },
  {
   "cell_type": "code",
   "execution_count": 34,
   "id": "51247566",
   "metadata": {},
   "outputs": [
    {
     "data": {
      "image/png": "[encoded data removed]",
      "text/plain": [
       "<Figure size 1008x360 with 2 Axes>"
      ]
     },
     "metadata": {
      "needs_background": "light"
     },
     "output_type": "display_data"
    }
   ],
   "source": [
    "number_graph(df, df['score_bki'], 'Распределение скорингового бала БКИ')"
   ]
  },
  {
   "cell_type": "markdown",
   "id": "e5ea9935",
   "metadata": {},
   "source": [
    "По гистограмме можно заключить, что рапределение признака досточно близко к нормальному. На boxplot'е можно увидеть выбросы, достаточно плотно собранные у границ графиков. Медианное значение для дефолтных значений оценки БКИ, оказалось больше, чем у не дефолтных заемщиков. Нам не известна методика оценки скорингового балла БКИ, но следует обратить внимание на отрицательные значения данного признака."
   ]
  },
  {
   "cell_type": "markdown",
   "id": "e44edc60",
   "metadata": {},
   "source": [
    "Как указывалось ранее, в данном параметре есть выборосы. Произведем их оценку."
   ]
  },
  {
   "cell_type": "code",
   "execution_count": 35,
   "id": "56e54ad3",
   "metadata": {},
   "outputs": [
    {
     "name": "stdout",
     "output_type": "stream",
     "text": [
      "Выбросы: 518 (0.47%)\n"
     ]
    }
   ],
   "source": [
    "outs, min_out, max_out = outliers(df['score_bki'])\n",
    "print_outliers(df, outs)"
   ]
  },
  {
   "cell_type": "markdown",
   "id": "b9eaf1bc",
   "metadata": {},
   "source": [
    "Доля выбросов незначительна. Можно избавимся от них методом удаления строк датасета с выбросами."
   ]
  },
  {
   "cell_type": "code",
   "execution_count": 36,
   "id": "0de593f8",
   "metadata": {},
   "outputs": [],
   "source": [
    "mask1 = df['score_bki'] > min_out\n",
    "mask2 = df['score_bki'] < max_out\n",
    "df = df[mask1 & mask2]"
   ]
  },
  {
   "cell_type": "markdown",
   "id": "2c667c5d",
   "metadata": {},
   "source": [
    "Рассматриваемый признак является числовым. Добавим его к другим числовым признакам в соответствующий список."
   ]
  },
  {
   "cell_type": "code",
   "execution_count": 37,
   "id": "718f5535",
   "metadata": {},
   "outputs": [],
   "source": [
    "num_cols.append('score_bki')"
   ]
  },
  {
   "cell_type": "markdown",
   "id": "1deebac9",
   "metadata": {},
   "source": [
    "***Выводы.***\n",
    "1. Распределение признака *score_bki* близко к нормальному.\n",
    "2. Признак *score_bki* - числовой."
   ]
  },
  {
   "cell_type": "markdown",
   "id": "a36183c3",
   "metadata": {},
   "source": [
    "***2.2.11. Признак bki_request_cnt - количество запросов в БКИ***"
   ]
  },
  {
   "cell_type": "markdown",
   "id": "77b2580d",
   "metadata": {},
   "source": [
    "По структуре данных признак числовой, имеющий несколько десятков возможных значений. Посмотрим их поближе."
   ]
  },
  {
   "cell_type": "code",
   "execution_count": 38,
   "id": "cef75525",
   "metadata": {},
   "outputs": [
    {
     "data": {
      "image/png": "[encoded data removed]",
      "text/plain": [
       "<Figure size 1008x360 with 2 Axes>"
      ]
     },
     "metadata": {
      "needs_background": "light"
     },
     "output_type": "display_data"
    }
   ],
   "source": [
    "number_graph(df, df['bki_request_cnt'], 'Распределение количества запросов в БКИ')"
   ]
  },
  {
   "cell_type": "markdown",
   "id": "549f9db0",
   "metadata": {},
   "source": [
    "По первому графику видно, что распределение похоже на экспоненциальное. Во второму - видно множественные выбросы за границами усов boxplot'а. Оценим количество и долю выбросов."
   ]
  },
  {
   "cell_type": "code",
   "execution_count": 39,
   "id": "e260d47e",
   "metadata": {},
   "outputs": [
    {
     "name": "stdout",
     "output_type": "stream",
     "text": [
      "Выбросы: 2569 (2.34%)\n"
     ]
    }
   ],
   "source": [
    "outs, min_out, max_out = outliers(df['bki_request_cnt'])\n",
    "print_outliers(df, outs)"
   ]
  },
  {
   "cell_type": "markdown",
   "id": "a3ea9df7",
   "metadata": {},
   "source": [
    "Доля выбросов достаточно большая. Пробуем прологарифмировать значения признака."
   ]
  },
  {
   "cell_type": "code",
   "execution_count": 40,
   "id": "e80edaa6",
   "metadata": {},
   "outputs": [
    {
     "data": {
      "image/png": "[encoded data removed]",
      "text/plain": [
       "<Figure size 1008x360 with 2 Axes>"
      ]
     },
     "metadata": {
      "needs_background": "light"
     },
     "output_type": "display_data"
    }
   ],
   "source": [
    "number_graph(df, np.log(df['bki_request_cnt']+1), 'Log-распределение количества запросов в БКИ')"
   ]
  },
  {
   "cell_type": "markdown",
   "id": "d124ccc6",
   "metadata": {},
   "source": [
    "Визуально результат лучше. Распределение признака стало ближе к нормальному. Выбросов стало меньше. Проанализируем их."
   ]
  },
  {
   "cell_type": "code",
   "execution_count": 41,
   "id": "733e5681",
   "metadata": {},
   "outputs": [
    {
     "name": "stdout",
     "output_type": "stream",
     "text": [
      "Выбросы: 12 (0.01%)\n"
     ]
    }
   ],
   "source": [
    "outs, min_out, max_out = outliers(np.log(df['bki_request_cnt']+1))\n",
    "print_outliers(df, outs)"
   ]
  },
  {
   "cell_type": "markdown",
   "id": "d9f95331",
   "metadata": {},
   "source": [
    "Полученное значение выбросов после логарифмирования признака, позволяет \"улчшить\" признак для обучения модли скоринга. Поэтому производим оговоренное ранее реобразование признака в датасете и удаляем оставщиеся выбросы."
   ]
  },
  {
   "cell_type": "code",
   "execution_count": 42,
   "id": "1b7f9ee6",
   "metadata": {},
   "outputs": [],
   "source": [
    "df['bki_request_cnt'] = np.log(df['bki_request_cnt']+1)\n",
    "mask1 = df['bki_request_cnt'] > min_out\n",
    "mask2 = df['bki_request_cnt'] < max_out\n",
    "df = df[mask1 & mask2]"
   ]
  },
  {
   "cell_type": "markdown",
   "id": "e94a50d6",
   "metadata": {},
   "source": [
    "Отнесем расматриваемый признак к числовым и зафиксируем это в списке таких признаков."
   ]
  },
  {
   "cell_type": "code",
   "execution_count": 43,
   "id": "0a4ce4aa",
   "metadata": {},
   "outputs": [],
   "source": [
    "num_cols.append('bki_request_cnt')"
   ]
  },
  {
   "cell_type": "markdown",
   "id": "05a87502",
   "metadata": {},
   "source": [
    "***Выводы.***\n",
    "1. Признак *bki_request_cnt* - числовой.\n",
    "2. Произведена подготовка признака *bki_request_cnt* для использования при обучении модели скоринга."
   ]
  },
  {
   "cell_type": "markdown",
   "id": "685beabb",
   "metadata": {},
   "source": [
    "***2.2.12. Признак region_rating - рейтинг региона***"
   ]
  },
  {
   "cell_type": "markdown",
   "id": "878fe70c",
   "metadata": {},
   "source": [
    "Числовое значение признака и 7 его уникалных значений позволяют предположить, что данный признак будет категориальным. Рассмотрим его более подробно."
   ]
  },
  {
   "cell_type": "code",
   "execution_count": 44,
   "id": "454da314",
   "metadata": {},
   "outputs": [
    {
     "name": "stdout",
     "output_type": "stream",
     "text": [
      "50    40806\n",
      "60    23900\n",
      "40    17876\n",
      "80    17061\n",
      "70     9232\n",
      "30      433\n",
      "20      310\n",
      "Name: region_rating, dtype: int64\n"
     ]
    },
    {
     "data": {
      "image/png": "[encoded data removed]",
      "text/plain": [
       "<Figure size 432x288 with 1 Axes>"
      ]
     },
     "metadata": {
      "needs_background": "light"
     },
     "output_type": "display_data"
    }
   ],
   "source": [
    "print(df['region_rating'].value_counts())\n",
    "sns.countplot(data=df, x=df['region_rating']).set(title='Распределение рейтинга регионов');"
   ]
  },
  {
   "cell_type": "markdown",
   "id": "cf066508",
   "metadata": {},
   "source": [
    "Видно, что в данном признаке содержится рейтинги в диапазоне от 20 до 80. Наличие фиксированного количества значений признака позволяет определить его как категориальный. Занесем его в список категориальных признаков для дальнейшей обработки."
   ]
  },
  {
   "cell_type": "code",
   "execution_count": 45,
   "id": "e5fae842",
   "metadata": {},
   "outputs": [],
   "source": [
    "cat_cols.append('region_rating')"
   ]
  },
  {
   "cell_type": "markdown",
   "id": "6626454e",
   "metadata": {},
   "source": [
    "***Вывод.*** Признак *region_rating* является категориальным. "
   ]
  },
  {
   "cell_type": "markdown",
   "id": "75fd03cf",
   "metadata": {},
   "source": [
    "***2.2.13. Признаки home_address и work_address - категоризаторы домашнего и рабочего адреса***"
   ]
  },
  {
   "cell_type": "markdown",
   "id": "a4fa52eb",
   "metadata": {},
   "source": [
    "Уже в самом описании признаков заявлены их категориальная природа. Убелимся в этом рассмотрев их более предметно."
   ]
  },
  {
   "cell_type": "code",
   "execution_count": 46,
   "id": "afbd66c1",
   "metadata": {},
   "outputs": [
    {
     "name": "stdout",
     "output_type": "stream",
     "text": [
      "2    59266\n",
      "1    48491\n",
      "3     1861\n",
      "Name: home_address, dtype: int64\n"
     ]
    },
    {
     "data": {
      "image/png": "[encoded data removed]",
      "text/plain": [
       "<Figure size 432x288 with 1 Axes>"
      ]
     },
     "metadata": {
      "needs_background": "light"
     },
     "output_type": "display_data"
    }
   ],
   "source": [
    "print(df['home_address'].value_counts())\n",
    "sns.countplot(data=df, x=df['home_address']).set(title='Распределение категоризатора домашнего адреса');"
   ]
  },
  {
   "cell_type": "code",
   "execution_count": 47,
   "id": "409fd0ee",
   "metadata": {},
   "outputs": [
    {
     "data": {
      "image/png": "[encoded data removed]",
      "text/plain": [
       "<Figure size 432x288 with 1 Axes>"
      ]
     },
     "metadata": {
      "needs_background": "light"
     },
     "output_type": "display_data"
    }
   ],
   "source": [
    "df['work_address'].value_counts()\n",
    "sns.countplot(data=df, x=df['work_address']).set(title='Распределение категоризатора рабочего адреса');"
   ]
  },
  {
   "cell_type": "markdown",
   "id": "bf8486c8",
   "metadata": {},
   "source": [
    "По заданию не определено значения кодов категоризатоа. Но если исходить из названия признаков, то можно предположить следующие значения:\n",
    "\n",
    "1. Частный домовладение или пригород.\n",
    "2. Квартира или черта города.\n",
    "3. Промышеленная зона или деловой квартал.\n",
    "\n",
    "Занесем данные признаки в список категориальных переменных."
   ]
  },
  {
   "cell_type": "code",
   "execution_count": 48,
   "id": "97084a4f",
   "metadata": {},
   "outputs": [],
   "source": [
    "cat_cols.append('home_address')\n",
    "cat_cols.append('work_address')"
   ]
  },
  {
   "cell_type": "markdown",
   "id": "cede77d3",
   "metadata": {},
   "source": [
    "***Выводы.***\n",
    "1. Признак *home_address* является категориальным.\n",
    "2. Признак *work_ address* является категориальным."
   ]
  },
  {
   "cell_type": "markdown",
   "id": "6f36286c",
   "metadata": {},
   "source": [
    "***2.2.14. Признак income - доход заемщика***"
   ]
  },
  {
   "cell_type": "markdown",
   "id": "e893626d",
   "metadata": {},
   "source": [
    "В структуре данных рассматриваемый признак заявлен как числовой. Имеет достаточно большое количество уникальных значений. Посмотрим распределение данного параметра графически, а так же сразу же оценим выбросы."
   ]
  },
  {
   "cell_type": "code",
   "execution_count": 49,
   "id": "af9a9cfa",
   "metadata": {},
   "outputs": [
    {
     "data": {
      "image/png": "[encoded data removed]",
      "text/plain": [
       "<Figure size 1008x360 with 2 Axes>"
      ]
     },
     "metadata": {
      "needs_background": "light"
     },
     "output_type": "display_data"
    },
    {
     "name": "stdout",
     "output_type": "stream",
     "text": [
      "Выбросы: 6939 (6.33%)\n"
     ]
    }
   ],
   "source": [
    "number_graph(df, df['income'], 'Распределение дохода заемщика')\n",
    "print_outliers(df, outliers(df['income'])[0])"
   ]
  },
  {
   "cell_type": "markdown",
   "id": "50b8bd80",
   "metadata": {},
   "source": [
    "Распределение по гистограмме не ясно, но имеет достаточно длинный \"хвост\" справа. В boxplot'ах прослеживается большое количество выбросов. Это подтверждается и расчетом доли выбросов. Попробуем пролагарифмировать значения признака и снова постоить распределения."
   ]
  },
  {
   "cell_type": "code",
   "execution_count": 50,
   "id": "756aeb8d",
   "metadata": {},
   "outputs": [
    {
     "data": {
      "image/png": "[encoded data removed]",
      "text/plain": [
       "<Figure size 1008x360 with 2 Axes>"
      ]
     },
     "metadata": {
      "needs_background": "light"
     },
     "output_type": "display_data"
    },
    {
     "name": "stdout",
     "output_type": "stream",
     "text": [
      "Выбросы: 2585 (2.36%)\n"
     ]
    }
   ],
   "source": [
    "number_graph(df, np.log(df['income']), 'Log-распределение дохода заемщика')\n",
    "print_outliers(df, outliers(np.log(df['income']+1))[0])"
   ]
  },
  {
   "cell_type": "markdown",
   "id": "907c3316",
   "metadata": {},
   "source": [
    "Видно, что распределение стало похоже на нормальное. Количество выбросов сократились почти в 3 раза. С учетом значимости признака дохода заемшщика для модели скоринга, мы не будем удалять оставшиеся выбросы. Применим логарифмирование к признаку в датасете и занесем данный признак в спиок числовых. "
   ]
  },
  {
   "cell_type": "code",
   "execution_count": 51,
   "id": "f9593139",
   "metadata": {},
   "outputs": [],
   "source": [
    "df['income'] = np.log(df['income']+1)\n",
    "num_cols.append('income')"
   ]
  },
  {
   "cell_type": "markdown",
   "id": "f858dc29",
   "metadata": {},
   "source": [
    "***Выводы.***\n",
    "1. Признак *income* - числовой.\n",
    "2. Произведена подготовка признака *income* для обучения создаваемой модели."
   ]
  },
  {
   "cell_type": "markdown",
   "id": "ecfd27d1",
   "metadata": {},
   "source": [
    "***2.2.15. Признак sna - связь заемщика с клиентами банка***"
   ]
  },
  {
   "cell_type": "markdown",
   "id": "aa92c83d",
   "metadata": {},
   "source": [
    "По структуре данных данный признак целочисленный числовой и имеет 4 уникальных значения. Все это определяет его как категориальный. Расмотрим этот признак более детально."
   ]
  },
  {
   "cell_type": "code",
   "execution_count": 52,
   "id": "896880c4",
   "metadata": {},
   "outputs": [
    {
     "name": "stdout",
     "output_type": "stream",
     "text": [
      "1    70358\n",
      "4    17394\n",
      "2    15750\n",
      "3     6116\n",
      "Name: sna, dtype: int64\n"
     ]
    },
    {
     "data": {
      "image/png": "[encoded data removed]",
      "text/plain": [
       "<Figure size 432x288 with 1 Axes>"
      ]
     },
     "metadata": {
      "needs_background": "light"
     },
     "output_type": "display_data"
    }
   ],
   "source": [
    "print(df['sna'].value_counts())\n",
    "sns.countplot(data=df, x=df['sna']).set(title='Распределение признака связи заемщика с клиентами банка');"
   ]
  },
  {
   "cell_type": "markdown",
   "id": "f4f589c6",
   "metadata": {},
   "source": [
    "Из гистограммы вмдны 4 явно выраженные группы, т.е. у нас имееися категориальный тип признака. Занесем данный признак в список категориальных признаков."
   ]
  },
  {
   "cell_type": "code",
   "execution_count": 53,
   "id": "6a8a4911",
   "metadata": {},
   "outputs": [],
   "source": [
    "cat_cols.append('sna')"
   ]
  },
  {
   "cell_type": "markdown",
   "id": "5d4220fe",
   "metadata": {},
   "source": [
    "***Вывод.*** Признак *sna* является категориальным."
   ]
  },
  {
   "cell_type": "markdown",
   "id": "5e505d9d",
   "metadata": {},
   "source": [
    "***2.2.16. first_time - давность наличия информации о заемщике***"
   ]
  },
  {
   "cell_type": "markdown",
   "id": "288fd867",
   "metadata": {},
   "source": [
    "Данный признак имеет четыре уникальных значения. Возможно - это категории. Проверим это утверждение."
   ]
  },
  {
   "cell_type": "code",
   "execution_count": 54,
   "id": "e272d906",
   "metadata": {},
   "outputs": [
    {
     "name": "stdout",
     "output_type": "stream",
     "text": [
      "3    46374\n",
      "4    27890\n",
      "1    18201\n",
      "2    17153\n",
      "Name: first_time, dtype: int64\n"
     ]
    },
    {
     "data": {
      "image/png": "[encoded data removed]",
      "text/plain": [
       "<Figure size 432x288 with 1 Axes>"
      ]
     },
     "metadata": {
      "needs_background": "light"
     },
     "output_type": "display_data"
    }
   ],
   "source": [
    "print(df['first_time'].value_counts())\n",
    "sns.countplot(data=df, x=df['first_time']).set(title='Распределение признака давности информации о заемщике');"
   ]
  },
  {
   "cell_type": "markdown",
   "id": "b326bf64",
   "metadata": {},
   "source": [
    "Видно четыре возможных значения, в диапазоне от 1 до 4. Это 4 явных категории. Отнесем данный тип к категориальным и зафиксируем его в соответствующем списке."
   ]
  },
  {
   "cell_type": "code",
   "execution_count": 55,
   "id": "461b92be",
   "metadata": {},
   "outputs": [],
   "source": [
    "cat_cols.append('first_time')"
   ]
  },
  {
   "cell_type": "markdown",
   "id": "5263112e",
   "metadata": {},
   "source": [
    "***Вывод.*** Признак *first_time* является категориальным."
   ]
  },
  {
   "cell_type": "markdown",
   "id": "dd2338bb",
   "metadata": {},
   "source": [
    "***2.2.17. Признак foreign_passport - наличие загранпаспорта***"
   ]
  },
  {
   "cell_type": "markdown",
   "id": "1b94b31e",
   "metadata": {},
   "source": [
    "Два уникальных значения данного признака предполагает бинарность данного признака. Посмотрим графически его распределение."
   ]
  },
  {
   "cell_type": "code",
   "execution_count": 56,
   "id": "05de8b29",
   "metadata": {},
   "outputs": [
    {
     "name": "stdout",
     "output_type": "stream",
     "text": [
      "N    93291\n",
      "Y    16327\n",
      "Name: foreign_passport, dtype: int64\n"
     ]
    },
    {
     "data": {
      "image/png": "[encoded data removed]",
      "text/plain": [
       "<Figure size 432x288 with 1 Axes>"
      ]
     },
     "metadata": {
      "needs_background": "light"
     },
     "output_type": "display_data"
    }
   ],
   "source": [
    "print(df['foreign_passport'].value_counts())\n",
    "sns.countplot(data=df, x=df['foreign_passport']).set(title='Распределение признака наличия загранпаспорта у замщика');"
   ]
  },
  {
   "cell_type": "markdown",
   "id": "ce7460b3",
   "metadata": {},
   "source": [
    "Использование обозначения Y/N подтверждает, что признак бинарный. Так же можно отметить, что заемщиков имеющих загранпаспорт в несколько раз меньше, чем без загранпаспорта. Добавим данный признак в список бинарных признаков для дальнейшей обработки."
   ]
  },
  {
   "cell_type": "code",
   "execution_count": 57,
   "id": "72cf2cc1",
   "metadata": {},
   "outputs": [],
   "source": [
    "bin_cols.append('foreign_passport')"
   ]
  },
  {
   "cell_type": "markdown",
   "id": "5638ec18",
   "metadata": {},
   "source": [
    "***Выводы.***\n",
    "1. В выборке данных преобладают заемщики не имеющие загранпаспорта.\n",
    "2. Признак *foreign_passport* - бинарный."
   ]
  },
  {
   "cell_type": "markdown",
   "id": "8a78335e",
   "metadata": {},
   "source": [
    "***2.2.18. Признак *sample* - флаг указания оучающей/тестовой выборки***"
   ]
  },
  {
   "cell_type": "markdown",
   "id": "76954260",
   "metadata": {},
   "source": [
    "Служебный признак, который мы ввели при объединении обучающего и тестового датасета. Предназначен для возможности последующего разделения выборок после предобработки данных. В обучении модели данный признак использоваться не будет.\n",
    "\n",
    "***Вывод.*** Признак *sample* не будет использоваться при обучении модели."
   ]
  },
  {
   "cell_type": "markdown",
   "id": "42ebbb74",
   "metadata": {},
   "source": [
    "***2.2.18. Признак default - флаг дефолта по кредиту***"
   ]
  },
  {
   "cell_type": "markdown",
   "id": "3cec5a9d",
   "metadata": {},
   "source": [
    "Данный признак - это целевой признак, который должен стать результатом работы созданной нами модели. Т.к. его значение для тестовой части выборки не определениы, то рассмотрим его распределение только на обучающей выборке."
   ]
  },
  {
   "cell_type": "code",
   "execution_count": 58,
   "id": "f16b914c",
   "metadata": {},
   "outputs": [
    {
     "name": "stdout",
     "output_type": "stream",
     "text": [
      "0    64427\n",
      "1     9372\n",
      "Name: default, dtype: int64\n"
     ]
    },
    {
     "data": {
      "image/png": "[encoded data removed]",
      "text/plain": [
       "<Figure size 432x288 with 1 Axes>"
      ]
     },
     "metadata": {
      "needs_background": "light"
     },
     "output_type": "display_data"
    }
   ],
   "source": [
    "# Смотрим на df_train, где есть значения целевого признака\n",
    "print(df_train['default'].value_counts())\n",
    "sns.countplot(data=df_train, x=df_train['default']).set(title='Распределение целевой переменной');"
   ]
  },
  {
   "cell_type": "markdown",
   "id": "0ecf31ba",
   "metadata": {},
   "source": [
    "Наличие дефолтных заемщиков в 7 раз меньших чем не дефолтных - это хорошо для банка. Но не хорошо для обучения модели, т.к. данные являются разбалансированными. Необходимо учитывать данное обстоятельство при построении модели и ее оптимизации.\n",
    "\n",
    "***Вывод.*** Данных целевого признака *default* достаточно для обучения модели, но их разбалансировка может привести к понижению точности ее работы."
   ]
  },
  {
   "cell_type": "markdown",
   "id": "38fe20b4",
   "metadata": {},
   "source": [
    "***2.3. Анализ числовых признаков***"
   ]
  },
  {
   "cell_type": "markdown",
   "id": "33bb0fe2",
   "metadata": {},
   "source": [
    "Рассмотрим полученные признаки, которые были отнесены к числовым."
   ]
  },
  {
   "cell_type": "code",
   "execution_count": 59,
   "id": "4c645003",
   "metadata": {},
   "outputs": [
    {
     "data": {
      "text/plain": [
       "['app_month', 'app_day', 'age', 'score_bki', 'bki_request_cnt', 'income']"
      ]
     },
     "execution_count": 59,
     "metadata": {},
     "output_type": "execute_result"
    }
   ],
   "source": [
    "num_cols"
   ]
  },
  {
   "cell_type": "markdown",
   "id": "e238a1e1",
   "metadata": {},
   "source": [
    "Добавим к этому списку целевой признак и построим матрицу корреляции числовых признаков."
   ]
  },
  {
   "cell_type": "code",
   "execution_count": 60,
   "id": "04d38dcb",
   "metadata": {},
   "outputs": [
    {
     "data": {
      "image/png": "[encoded data removed]",
      "text/plain": [
       "<Figure size 1008x432 with 2 Axes>"
      ]
     },
     "metadata": {
      "needs_background": "light"
     },
     "output_type": "display_data"
    }
   ],
   "source": [
    "plt.figure(figsize=(14,6))\n",
    "sns.heatmap(df[num_cols+['default']].corr(), annot=True);"
   ]
  },
  {
   "cell_type": "markdown",
   "id": "129c6a2a",
   "metadata": {},
   "source": [
    "Анализируя матрицу корреляции можно отметить, что в целом числовые признаки связаны между собой слабой корреляционной связью, что подходит нам для обучения модели. Отдельно выделим связи с наибольшими по модулю значениями.\n",
    "- *app_day* и *app_month* - закономерно, т.к. это составные части одной даты и входят в ограниченный сисок дат в году;\n",
    "- *score_bki* и *bki_request_cnt* - можно сделать вывод, что оценка БКИ явно связана с количеством обращений в БКИ по заемщику;\n",
    "- *score_bki* и *default* - скоринговые баллы БКИ оказывают наибольшее влияние на целевой признак, по сравнению с другими числовыми признаками;\n",
    "- *age* и *income* - существование связи между этими параметрами реально существует, но не очень понятно только появление обратной связи, возможно это особенность данной выборки;\n",
    "- *age* и *score_bki* - оценка БКИ явно учитывает возраст заемщика, но как упониналось ранее, для более детального понимания взаимосвязи со скоринговыми балами БКИ необходимо знать методику их расчетов."
   ]
  },
  {
   "cell_type": "markdown",
   "id": "625b3808",
   "metadata": {},
   "source": [
    "Рассмотрим значимость непрерывных признаков."
   ]
  },
  {
   "cell_type": "code",
   "execution_count": 61,
   "id": "f3e266bd",
   "metadata": {},
   "outputs": [
    {
     "data": {
      "image/png": "[encoded data removed]",
      "text/plain": [
       "<Figure size 432x288 with 1 Axes>"
      ]
     },
     "metadata": {
      "needs_background": "light"
     },
     "output_type": "display_data"
    }
   ],
   "source": [
    "imp_num = pd.Series(f_classif(df[num_cols], df['default'])[0], index = num_cols)\n",
    "imp_num.sort_values(inplace = True)\n",
    "imp_num.plot(kind = 'barh');"
   ]
  },
  {
   "cell_type": "markdown",
   "id": "eb26e405",
   "metadata": {},
   "source": [
    "Как и указывалось выше, наибольшее влияние на целевой признак оказывает *score_bki*, значительно превышая остальные признаки.\n",
    "\n",
    "***Выводы.***\n",
    "1. Все выбранные числовые признаки можно использовать при обучении модели.\n",
    "2. Наибольшее влияние из числовых признаков на целевой признак оказывает *score_bki*."
   ]
  },
  {
   "cell_type": "markdown",
   "id": "1a9ab759",
   "metadata": {},
   "source": [
    "***2.4. Обработка и анализ бинарных признаков***"
   ]
  },
  {
   "cell_type": "markdown",
   "id": "969364c0",
   "metadata": {},
   "source": [
    "Обратимся к списку бинарных признаков датасета. Все признаки кроме *good_work* требуют преобразования к числам. Проведем это преобразование."
   ]
  },
  {
   "cell_type": "code",
   "execution_count": 62,
   "id": "47c24298",
   "metadata": {},
   "outputs": [
    {
     "name": "stdout",
     "output_type": "stream",
     "text": [
      "['sex', 'car', 'car_type', 'good_work', 'foreign_passport']\n"
     ]
    },
    {
     "data": {
      "text/html": [
       "<div>\n",
       "<style scoped>\n",
       "    .dataframe tbody tr th:only-of-type {\n",
       "        vertical-align: middle;\n",
       "    }\n",
       "\n",
       "    .dataframe tbody tr th {\n",
       "        vertical-align: top;\n",
       "    }\n",
       "\n",
       "    .dataframe thead th {\n",
       "        text-align: right;\n",
       "    }\n",
       "</style>\n",
       "<table border=\"1\" class=\"dataframe\">\n",
       "  <thead>\n",
       "    <tr style=\"text-align: right;\">\n",
       "      <th></th>\n",
       "      <th>client_id</th>\n",
       "      <th>education</th>\n",
       "      <th>sex</th>\n",
       "      <th>age</th>\n",
       "      <th>car</th>\n",
       "      <th>car_type</th>\n",
       "      <th>decline_app_cnt</th>\n",
       "      <th>good_work</th>\n",
       "      <th>score_bki</th>\n",
       "      <th>bki_request_cnt</th>\n",
       "      <th>...</th>\n",
       "      <th>home_address</th>\n",
       "      <th>work_address</th>\n",
       "      <th>income</th>\n",
       "      <th>sna</th>\n",
       "      <th>first_time</th>\n",
       "      <th>foreign_passport</th>\n",
       "      <th>default</th>\n",
       "      <th>sample</th>\n",
       "      <th>app_month</th>\n",
       "      <th>app_day</th>\n",
       "    </tr>\n",
       "  </thead>\n",
       "  <tbody>\n",
       "    <tr>\n",
       "      <th>0</th>\n",
       "      <td>25905</td>\n",
       "      <td>SCH</td>\n",
       "      <td>1</td>\n",
       "      <td>62</td>\n",
       "      <td>1</td>\n",
       "      <td>1</td>\n",
       "      <td>0</td>\n",
       "      <td>0</td>\n",
       "      <td>-2.008753</td>\n",
       "      <td>0.693147</td>\n",
       "      <td>...</td>\n",
       "      <td>1</td>\n",
       "      <td>2</td>\n",
       "      <td>9.798183</td>\n",
       "      <td>4</td>\n",
       "      <td>1</td>\n",
       "      <td>0</td>\n",
       "      <td>0</td>\n",
       "      <td>1</td>\n",
       "      <td>2</td>\n",
       "      <td>1</td>\n",
       "    </tr>\n",
       "    <tr>\n",
       "      <th>1</th>\n",
       "      <td>63161</td>\n",
       "      <td>SCH</td>\n",
       "      <td>0</td>\n",
       "      <td>59</td>\n",
       "      <td>0</td>\n",
       "      <td>0</td>\n",
       "      <td>0</td>\n",
       "      <td>0</td>\n",
       "      <td>-1.532276</td>\n",
       "      <td>1.386294</td>\n",
       "      <td>...</td>\n",
       "      <td>2</td>\n",
       "      <td>3</td>\n",
       "      <td>9.852247</td>\n",
       "      <td>4</td>\n",
       "      <td>1</td>\n",
       "      <td>0</td>\n",
       "      <td>0</td>\n",
       "      <td>1</td>\n",
       "      <td>3</td>\n",
       "      <td>12</td>\n",
       "    </tr>\n",
       "    <tr>\n",
       "      <th>2</th>\n",
       "      <td>25887</td>\n",
       "      <td>SCH</td>\n",
       "      <td>1</td>\n",
       "      <td>25</td>\n",
       "      <td>1</td>\n",
       "      <td>0</td>\n",
       "      <td>2</td>\n",
       "      <td>0</td>\n",
       "      <td>-1.408142</td>\n",
       "      <td>0.693147</td>\n",
       "      <td>...</td>\n",
       "      <td>1</td>\n",
       "      <td>2</td>\n",
       "      <td>10.308986</td>\n",
       "      <td>1</td>\n",
       "      <td>4</td>\n",
       "      <td>1</td>\n",
       "      <td>0</td>\n",
       "      <td>1</td>\n",
       "      <td>2</td>\n",
       "      <td>1</td>\n",
       "    </tr>\n",
       "  </tbody>\n",
       "</table>\n",
       "<p>3 rows × 21 columns</p>\n",
       "</div>"
      ],
      "text/plain": [
       "   client_id education  sex  age  car  car_type  decline_app_cnt  good_work  \\\n",
       "0      25905       SCH    1   62    1         1                0          0   \n",
       "1      63161       SCH    0   59    0         0                0          0   \n",
       "2      25887       SCH    1   25    1         0                2          0   \n",
       "\n",
       "   score_bki  bki_request_cnt  ...  home_address  work_address     income  \\\n",
       "0  -2.008753         0.693147  ...             1             2   9.798183   \n",
       "1  -1.532276         1.386294  ...             2             3   9.852247   \n",
       "2  -1.408142         0.693147  ...             1             2  10.308986   \n",
       "\n",
       "   sna  first_time  foreign_passport  default  sample  app_month  app_day  \n",
       "0    4           1                 0        0       1          2        1  \n",
       "1    4           1                 0        0       1          3       12  \n",
       "2    1           4                 1        0       1          2        1  \n",
       "\n",
       "[3 rows x 21 columns]"
      ]
     },
     "execution_count": 62,
     "metadata": {},
     "output_type": "execute_result"
    }
   ],
   "source": [
    "print(bin_cols)\n",
    "label_encoder = LabelEncoder()\n",
    "for column in bin_cols:\n",
    "    if column != 'good_work':\n",
    "        df[column] = label_encoder.fit_transform(df[column])\n",
    "df.head(3) # Проверим результат"
   ]
  },
  {
   "cell_type": "markdown",
   "id": "7bef5b76",
   "metadata": {},
   "source": [
    "Посмотрим значимость бинарных признаков по отношению к целевому признаку."
   ]
  },
  {
   "cell_type": "code",
   "execution_count": 63,
   "id": "49569df9",
   "metadata": {},
   "outputs": [
    {
     "data": {
      "image/png": "[encoded data removed]",
      "text/plain": [
       "<Figure size 432x288 with 1 Axes>"
      ]
     },
     "metadata": {
      "needs_background": "light"
     },
     "output_type": "display_data"
    }
   ],
   "source": [
    "imp_bin = pd.Series(mutual_info_classif(df[bin_cols], df['default'], discrete_features =True), index = bin_cols)\n",
    "imp_bin.sort_values(inplace = True)\n",
    "imp_bin.plot(kind = 'barh');"
   ]
  },
  {
   "cell_type": "markdown",
   "id": "181b4ab1",
   "metadata": {},
   "source": [
    "Из графика видно, что наиболее значимым оказался признак *foreign_passport*. Чуть менее значимым - *car_type*. Признаки *good_work* и *car* оказывают примерно одинаковое воздействие на целевой признак, но примерно в 2 с лишним раза меньшее чем *foreign_passport*."
   ]
  },
  {
   "cell_type": "markdown",
   "id": "fc49d1db",
   "metadata": {},
   "source": [
    "***Выводы.***\n",
    "1. Все бинарные признаки приготовлены к обучению модели.\n",
    "2. Наиболее значимым бинарным признаком является *foreign_passport*."
   ]
  },
  {
   "cell_type": "markdown",
   "id": "fd6b4397",
   "metadata": {},
   "source": [
    "***2.5. Обработка и анализ категориальных признаков***"
   ]
  },
  {
   "cell_type": "markdown",
   "id": "2bd47b56",
   "metadata": {},
   "source": [
    "Рассмотрим полученный список категориальных переменных."
   ]
  },
  {
   "cell_type": "code",
   "execution_count": 64,
   "id": "33914470",
   "metadata": {},
   "outputs": [
    {
     "data": {
      "text/plain": [
       "['education',\n",
       " 'decline_app_cnt',\n",
       " 'region_rating',\n",
       " 'home_address',\n",
       " 'work_address',\n",
       " 'sna',\n",
       " 'first_time']"
      ]
     },
     "execution_count": 64,
     "metadata": {},
     "output_type": "execute_result"
    }
   ],
   "source": [
    "cat_cols"
   ]
  },
  {
   "cell_type": "markdown",
   "id": "a7b9021e",
   "metadata": {},
   "source": [
    "Значения признаков *education* и *region_rating* требуют дополнительной обработки. Преобразуем их значения в числа."
   ]
  },
  {
   "cell_type": "code",
   "execution_count": 65,
   "id": "2b41de7d",
   "metadata": {},
   "outputs": [],
   "source": [
    "label_encoder = LabelEncoder()\n",
    "df['education'] = label_encoder.fit_transform(df['education'])\n",
    "df['region_rating'] = label_encoder.fit_transform(df['region_rating'])"
   ]
  },
  {
   "cell_type": "markdown",
   "id": "98567d6d",
   "metadata": {},
   "source": [
    "Оценим значимость категориальных признаков."
   ]
  },
  {
   "cell_type": "code",
   "execution_count": 66,
   "id": "4656c932",
   "metadata": {},
   "outputs": [
    {
     "data": {
      "image/png": "[encoded data removed]",
      "text/plain": [
       "<Figure size 432x288 with 1 Axes>"
      ]
     },
     "metadata": {
      "needs_background": "light"
     },
     "output_type": "display_data"
    }
   ],
   "source": [
    "imp_cat = pd.Series(mutual_info_classif(df[cat_cols], df['default'], discrete_features =True), index = cat_cols)\n",
    "imp_cat.sort_values(inplace = True)\n",
    "imp_cat.plot(kind = 'barh');"
   ]
  },
  {
   "cell_type": "markdown",
   "id": "1bea8785",
   "metadata": {},
   "source": [
    "Все категориальные признаки оказывают значимое влияние на целевую переменную. Все будут использоваться при обучении модели. Произведем преобразование этих признаков в индикаторные значения."
   ]
  },
  {
   "cell_type": "code",
   "execution_count": 67,
   "id": "4fabfe94",
   "metadata": {},
   "outputs": [
    {
     "name": "stdout",
     "output_type": "stream",
     "text": [
      "<class 'pandas.core.frame.DataFrame'>\n",
      "Int64Index: 109618 entries, 0 to 110147\n",
      "Data columns (total 45 columns):\n",
      " #   Column             Non-Null Count   Dtype  \n",
      "---  ------             --------------   -----  \n",
      " 0   client_id          109618 non-null  int64  \n",
      " 1   sex                109618 non-null  int32  \n",
      " 2   age                109618 non-null  int64  \n",
      " 3   car                109618 non-null  int32  \n",
      " 4   car_type           109618 non-null  int32  \n",
      " 5   good_work          109618 non-null  int64  \n",
      " 6   score_bki          109618 non-null  float64\n",
      " 7   bki_request_cnt    109618 non-null  float64\n",
      " 8   income             109618 non-null  float64\n",
      " 9   foreign_passport   109618 non-null  int32  \n",
      " 10  default            109618 non-null  int64  \n",
      " 11  sample             109618 non-null  int64  \n",
      " 12  app_month          109618 non-null  int64  \n",
      " 13  app_day            109618 non-null  int64  \n",
      " 14  education_0        109618 non-null  uint8  \n",
      " 15  education_1        109618 non-null  uint8  \n",
      " 16  education_2        109618 non-null  uint8  \n",
      " 17  education_3        109618 non-null  uint8  \n",
      " 18  education_4        109618 non-null  uint8  \n",
      " 19  decline_app_cnt_0  109618 non-null  uint8  \n",
      " 20  decline_app_cnt_1  109618 non-null  uint8  \n",
      " 21  decline_app_cnt_2  109618 non-null  uint8  \n",
      " 22  decline_app_cnt_3  109618 non-null  uint8  \n",
      " 23  decline_app_cnt_4  109618 non-null  uint8  \n",
      " 24  region_rating_0    109618 non-null  uint8  \n",
      " 25  region_rating_1    109618 non-null  uint8  \n",
      " 26  region_rating_2    109618 non-null  uint8  \n",
      " 27  region_rating_3    109618 non-null  uint8  \n",
      " 28  region_rating_4    109618 non-null  uint8  \n",
      " 29  region_rating_5    109618 non-null  uint8  \n",
      " 30  region_rating_6    109618 non-null  uint8  \n",
      " 31  home_address_1     109618 non-null  uint8  \n",
      " 32  home_address_2     109618 non-null  uint8  \n",
      " 33  home_address_3     109618 non-null  uint8  \n",
      " 34  work_address_1     109618 non-null  uint8  \n",
      " 35  work_address_2     109618 non-null  uint8  \n",
      " 36  work_address_3     109618 non-null  uint8  \n",
      " 37  sna_1              109618 non-null  uint8  \n",
      " 38  sna_2              109618 non-null  uint8  \n",
      " 39  sna_3              109618 non-null  uint8  \n",
      " 40  sna_4              109618 non-null  uint8  \n",
      " 41  first_time_1       109618 non-null  uint8  \n",
      " 42  first_time_2       109618 non-null  uint8  \n",
      " 43  first_time_3       109618 non-null  uint8  \n",
      " 44  first_time_4       109618 non-null  uint8  \n",
      "dtypes: float64(3), int32(4), int64(7), uint8(31)\n",
      "memory usage: 18.1 MB\n"
     ]
    }
   ],
   "source": [
    "df = pd.get_dummies(df, columns=cat_cols)\n",
    "df.info() # Проверка результата"
   ]
  },
  {
   "cell_type": "markdown",
   "id": "c8adfe33",
   "metadata": {},
   "source": [
    "***Выводы.***\n",
    "1. Подготовили категориальные данные для обучения модели.\n",
    "2. Все категориальные признаки оказывают значимое влияние на целевую переменную."
   ]
  },
  {
   "cell_type": "markdown",
   "id": "ad5be155",
   "metadata": {},
   "source": [
    "**3. Обучение модели**"
   ]
  },
  {
   "cell_type": "markdown",
   "id": "7e93cf79",
   "metadata": {},
   "source": [
    "***3.1. Разбиение данных на части***"
   ]
  },
  {
   "cell_type": "markdown",
   "id": "d8582e46",
   "metadata": {},
   "source": [
    "Выделим из общего датасета тестовую часть, которая ранее была помечена через признак *sample*=0. Также уберем служебные признаки, котрые мы добавляли при объединении изначальных выборок."
   ]
  },
  {
   "cell_type": "code",
   "execution_count": 68,
   "id": "c0849a66",
   "metadata": {},
   "outputs": [],
   "source": [
    "train_data = df.query('sample == 1').drop(['sample'], axis=1)\n",
    "test_data = df.query('sample == 0').drop(['sample', 'default'], axis=1)"
   ]
  },
  {
   "cell_type": "markdown",
   "id": "f2e94dcb",
   "metadata": {},
   "source": [
    "Проведем нормализацию значений числовых признаков."
   ]
  },
  {
   "cell_type": "code",
   "execution_count": 69,
   "id": "5353b179",
   "metadata": {},
   "outputs": [],
   "source": [
    "for col in num_cols:\n",
    "    train_data[col] = StandardScaler().fit_transform(train_data[[col]].values)"
   ]
  },
  {
   "cell_type": "markdown",
   "id": "df7ce6a2",
   "metadata": {},
   "source": [
    "Подготовим датафрейм train_data для использования при обучении модели."
   ]
  },
  {
   "cell_type": "code",
   "execution_count": 70,
   "id": "0b3e886c",
   "metadata": {},
   "outputs": [],
   "source": [
    "X = train_data.drop(['client_id', 'default'], axis=1).values\n",
    "y = train_data['default'].values # целевой признак"
   ]
  },
  {
   "cell_type": "markdown",
   "id": "cde7a088",
   "metadata": {},
   "source": [
    "Для проверки модели до отправки submission на kaggle, разобъем полученные данные на тренировочные и валидационные части в пропорции 4:1."
   ]
  },
  {
   "cell_type": "code",
   "execution_count": 71,
   "id": "c52ba73d",
   "metadata": {},
   "outputs": [
    {
     "data": {
      "text/plain": [
       "((58762, 42), (14691, 42), (58762,), (14691,))"
      ]
     },
     "execution_count": 71,
     "metadata": {},
     "output_type": "execute_result"
    }
   ],
   "source": [
    "X_train, X_valid, y_train, y_valid = train_test_split(X, y, test_size=0.20, random_state=42)\n",
    "X_train.shape, X_valid.shape, y_train.shape, y_valid.shape"
   ]
  },
  {
   "cell_type": "markdown",
   "id": "7b9580c6",
   "metadata": {},
   "source": [
    "***3.2. Обучение и оценка базовой модели***"
   ]
  },
  {
   "cell_type": "markdown",
   "id": "34cec3df",
   "metadata": {},
   "source": [
    "Проведем обучение с рекомендованными по baseline параметрами."
   ]
  },
  {
   "cell_type": "code",
   "execution_count": 72,
   "id": "d4cda53a",
   "metadata": {},
   "outputs": [],
   "source": [
    "logreg = LogisticRegression(solver='liblinear', max_iter=1000)\n",
    "logreg.fit(X_train, y_train)\n",
    "y_pred = logreg.predict(X_valid)\n",
    "y_prob = logreg.predict_proba(X_valid)[:,1]"
   ]
  },
  {
   "cell_type": "markdown",
   "id": "77c76af9",
   "metadata": {},
   "source": [
    "Сформируем графические и табличные оценочные результаты полученной модели."
   ]
  },
  {
   "cell_type": "code",
   "execution_count": 73,
   "id": "cc4bab93",
   "metadata": {},
   "outputs": [
    {
     "data": {
      "image/png": "[encoded data removed]",
      "text/plain": [
       "<Figure size 432x288 with 1 Axes>"
      ]
     },
     "metadata": {
      "needs_background": "light"
     },
     "output_type": "display_data"
    },
    {
     "data": {
      "text/html": [
       "<div>\n",
       "<style scoped>\n",
       "    .dataframe tbody tr th:only-of-type {\n",
       "        vertical-align: middle;\n",
       "    }\n",
       "\n",
       "    .dataframe tbody tr th {\n",
       "        vertical-align: top;\n",
       "    }\n",
       "\n",
       "    .dataframe thead th {\n",
       "        text-align: right;\n",
       "    }\n",
       "</style>\n",
       "<table border=\"1\" class=\"dataframe\">\n",
       "  <thead>\n",
       "    <tr style=\"text-align: right;\">\n",
       "      <th></th>\n",
       "      <th>base</th>\n",
       "    </tr>\n",
       "  </thead>\n",
       "  <tbody>\n",
       "    <tr>\n",
       "      <th>accuracy</th>\n",
       "      <td>0.873868</td>\n",
       "    </tr>\n",
       "    <tr>\n",
       "      <th>f1</th>\n",
       "      <td>0.048279</td>\n",
       "    </tr>\n",
       "    <tr>\n",
       "      <th>roc_auc</th>\n",
       "      <td>0.729748</td>\n",
       "    </tr>\n",
       "    <tr>\n",
       "      <th>confusion</th>\n",
       "      <td>[[12791, 47], [1806, 47]]</td>\n",
       "    </tr>\n",
       "  </tbody>\n",
       "</table>\n",
       "</div>"
      ],
      "text/plain": [
       "                                base\n",
       "accuracy                    0.873868\n",
       "f1                          0.048279\n",
       "roc_auc                     0.729748\n",
       "confusion  [[12791, 47], [1806, 47]]"
      ]
     },
     "execution_count": 73,
     "metadata": {},
     "output_type": "execute_result"
    }
   ],
   "source": [
    "results = pd.DataFrame.from_dict(get_metrics(y_valid, y_pred, y_prob), orient='index', columns=['base'])\n",
    "roc_auc_graph(y_valid, y_prob)\n",
    "results"
   ]
  },
  {
   "cell_type": "markdown",
   "id": "77eb7872",
   "metadata": {},
   "source": [
    "Полученные значения метрик будем использовать как базовые для сравнения с другими вариантами моделей. Следует обратить внимание на значения матрицы ошибок, которые говорят о недостаточно \"хорошем\" определении дефолтов заемщиков. Присутствует достаточно большое количество ложноотрицательных заключений. Это ошибка второго рода. Это может быть связано с несбалансированностью целевой переменной. Об этом уже упоминалось в п.2.2.18."
   ]
  },
  {
   "cell_type": "markdown",
   "id": "c7c0ded1",
   "metadata": {},
   "source": [
    "***Выводы.***\n",
    "1. Необходимо попытаться улучшить качество модели, по сравнению с метриками базовой модели.\n",
    "2. Ошибка второго рода в предсказании также указаывает на необходимость поиска более точной модели."
   ]
  },
  {
   "cell_type": "markdown",
   "id": "88580773",
   "metadata": {},
   "source": [
    "***3.3. Обучение и оценка сбалансированной модели***"
   ]
  },
  {
   "cell_type": "markdown",
   "id": "2a90b5b1",
   "metadata": {},
   "source": [
    "Попробуем произвести балансировку обучающей выборки с помощью метода *undersampling*. Выраниваем по целевому признаку *default*."
   ]
  },
  {
   "cell_type": "code",
   "execution_count": 74,
   "id": "b4256176",
   "metadata": {},
   "outputs": [],
   "source": [
    "val = train_data['default'].value_counts(ascending=True)\n",
    "n = val.iloc[0]\n",
    "minor = train_data[train_data['default'] == val.index[0]]\n",
    "add = train_data[train_data['default'] == val.index[1]][:n]\n",
    "train_balanced = pd.concat([add, minor])"
   ]
  },
  {
   "cell_type": "markdown",
   "id": "a70760e7",
   "metadata": {},
   "source": [
    "Проведем подготовку и разделение полученного датафрейма *train_balanced* для последующего обучения модели с теми же прараметрами, что и раньше."
   ]
  },
  {
   "cell_type": "code",
   "execution_count": 75,
   "id": "194b6554",
   "metadata": {},
   "outputs": [
    {
     "data": {
      "text/plain": [
       "((14820, 42), (3706, 42), (14820,), (3706,))"
      ]
     },
     "execution_count": 75,
     "metadata": {},
     "output_type": "execute_result"
    }
   ],
   "source": [
    "X = train_balanced.drop(['client_id', 'default'], axis=1).values\n",
    "y = train_balanced['default'].values # целевой признак\n",
    "X_train, X_valid, y_train, y_valid = train_test_split(X, y, test_size=0.20, random_state=42)\n",
    "X_train.shape, X_valid.shape, y_train.shape, y_valid.shape"
   ]
  },
  {
   "cell_type": "code",
   "execution_count": 76,
   "id": "aecbe448",
   "metadata": {},
   "outputs": [
    {
     "data": {
      "image/png": "[encoded data removed]",
      "text/plain": [
       "<Figure size 432x288 with 1 Axes>"
      ]
     },
     "metadata": {
      "needs_background": "light"
     },
     "output_type": "display_data"
    },
    {
     "data": {
      "text/html": [
       "<div>\n",
       "<style scoped>\n",
       "    .dataframe tbody tr th:only-of-type {\n",
       "        vertical-align: middle;\n",
       "    }\n",
       "\n",
       "    .dataframe tbody tr th {\n",
       "        vertical-align: top;\n",
       "    }\n",
       "\n",
       "    .dataframe thead th {\n",
       "        text-align: right;\n",
       "    }\n",
       "</style>\n",
       "<table border=\"1\" class=\"dataframe\">\n",
       "  <thead>\n",
       "    <tr style=\"text-align: right;\">\n",
       "      <th></th>\n",
       "      <th>base</th>\n",
       "      <th>balanced</th>\n",
       "    </tr>\n",
       "  </thead>\n",
       "  <tbody>\n",
       "    <tr>\n",
       "      <th>accuracy</th>\n",
       "      <td>0.873868</td>\n",
       "      <td>0.674582</td>\n",
       "    </tr>\n",
       "    <tr>\n",
       "      <th>f1</th>\n",
       "      <td>0.048279</td>\n",
       "      <td>0.672104</td>\n",
       "    </tr>\n",
       "    <tr>\n",
       "      <th>roc_auc</th>\n",
       "      <td>0.729748</td>\n",
       "      <td>0.74484</td>\n",
       "    </tr>\n",
       "    <tr>\n",
       "      <th>confusion</th>\n",
       "      <td>[[12791, 47], [1806, 47]]</td>\n",
       "      <td>[[1264, 612], [594, 1236]]</td>\n",
       "    </tr>\n",
       "  </tbody>\n",
       "</table>\n",
       "</div>"
      ],
      "text/plain": [
       "                                base                    balanced\n",
       "accuracy                    0.873868                    0.674582\n",
       "f1                          0.048279                    0.672104\n",
       "roc_auc                     0.729748                     0.74484\n",
       "confusion  [[12791, 47], [1806, 47]]  [[1264, 612], [594, 1236]]"
      ]
     },
     "execution_count": 76,
     "metadata": {},
     "output_type": "execute_result"
    }
   ],
   "source": [
    "logreg = LogisticRegression(solver='liblinear', max_iter=1000)\n",
    "logreg.fit(X_train, y_train)\n",
    "y_pred = logreg.predict(X_valid)\n",
    "y_prob = logreg.predict_proba(X_valid)[:,1]\n",
    "\n",
    "results['balanced'] = pd.Series(get_metrics(y_valid, y_pred, y_prob))\n",
    "roc_auc_graph(y_valid, y_prob)\n",
    "results"
   ]
  },
  {
   "cell_type": "markdown",
   "id": "e50fa42a",
   "metadata": {},
   "source": [
    "Величина метрики f1 значительно выросла, что говорит что модель более успешно справилась с задачей дисбаланса двоичной классификации. Незначительно, но увеличилась метрика roc_auc. Это тоже говорит об улучшении модели. Также можно отметить изменнеие в матрице ошибок. Теперь значения на главной ее диагонали почти выровнялись, что означает улучшение предсказаний дефлотов."
   ]
  },
  {
   "cell_type": "markdown",
   "id": "7709f3a5",
   "metadata": {},
   "source": [
    "***Выводы.***\n",
    "1. Используя метод *undersampling* удалось сбалансировать исходные данные так, что теперь модель дает более равномерные предсказания дефолтных и недефолтных заемщиков.\n",
    "2. Метрика *f1* значительно возросла, по сравнению с базовой моделью.\n",
    "3. Упала метрика *accuracy* и стало больше ложных предсказаний, но для улучшения этих параметров нужна большая выборка данных.\n",
    "4. Попытаемся улушить эту модель с помощью подбора гиперпараметров."
   ]
  },
  {
   "cell_type": "markdown",
   "id": "ec9ae78d",
   "metadata": {},
   "source": [
    "***3.4. Подбор гиперпараметров для улучшения модели***"
   ]
  },
  {
   "cell_type": "markdown",
   "id": "b0f3a0b6",
   "metadata": {},
   "source": [
    "Попробуем найти опимальные парамеры для регуляризации логической регрессии с помощью поиска гиперпараметров *GridSearchCV* при помощи перебора парметров по сетке *param_grid*."
   ]
  },
  {
   "cell_type": "code",
   "execution_count": 77,
   "id": "f5e09020",
   "metadata": {},
   "outputs": [
    {
     "name": "stdout",
     "output_type": "stream",
     "text": [
      "\tC: 1.0\n",
      "\tclass_weight: None\n",
      "\tdual: False\n",
      "\tfit_intercept: True\n",
      "\tintercept_scaling: 1\n",
      "\tl1_ratio: None\n",
      "\tmax_iter: 1000\n",
      "\tmulti_class: 'auto'\n",
      "\tn_jobs: None\n",
      "\tpenalty: 'none'\n",
      "\trandom_state: None\n",
      "\tsolver: 'newton-cg'\n",
      "\ttol: 1e-05\n",
      "\tverbose: 0\n",
      "\twarm_start: False\n"
     ]
    }
   ],
   "source": [
    "logreg = LogisticRegression()\n",
    "\n",
    "iter_ = 1000\n",
    "epsilon_stop = 1e-5\n",
    "\n",
    "param_grid = [\n",
    "    {'penalty': ['l1'], \n",
    "     'solver': ['liblinear', 'saga'], \n",
    "     'class_weight':[None, 'balanced'], \n",
    "     'multi_class': ['auto','ovr'], \n",
    "     'max_iter':[iter_],\n",
    "     'tol':[epsilon_stop]},\n",
    "    {'penalty': ['l2'], \n",
    "     'solver': ['newton-cg', 'lbfgs', 'liblinear', 'sag', 'saga'], \n",
    "     'class_weight':[None, 'balanced'], \n",
    "     'multi_class': ['auto','ovr'], \n",
    "     'max_iter':[iter_],\n",
    "     'tol':[epsilon_stop]},\n",
    "    {'penalty': ['none'], \n",
    "     'solver': ['newton-cg', 'lbfgs', 'sag', 'saga'], \n",
    "     'class_weight':[None, 'balanced'], \n",
    "     'multi_class': ['auto','ovr'], \n",
    "     'max_iter':[iter_],\n",
    "     'tol':[epsilon_stop]},\n",
    "]\n",
    "\n",
    "## model ваша модель логистической регрессии\n",
    "gridsearch = GridSearchCV(logreg, param_grid, scoring='f1', n_jobs=-1, cv=5)\n",
    "gridsearch.fit(X_train, y_train)\n",
    "model = gridsearch.best_estimator_\n",
    "\n",
    "##печатаем параметры\n",
    "best_parameters = model.get_params()\n",
    "for param_name in sorted(best_parameters.keys()):\n",
    "        print('\\t%s: %r' % (param_name, best_parameters[param_name]))"
   ]
  },
  {
   "cell_type": "code",
   "execution_count": 78,
   "id": "43fd6114",
   "metadata": {},
   "outputs": [
    {
     "data": {
      "image/png": "[encoded data removed]",
      "text/plain": [
       "<Figure size 432x288 with 1 Axes>"
      ]
     },
     "metadata": {
      "needs_background": "light"
     },
     "output_type": "display_data"
    },
    {
     "data": {
      "text/html": [
       "<div>\n",
       "<style scoped>\n",
       "    .dataframe tbody tr th:only-of-type {\n",
       "        vertical-align: middle;\n",
       "    }\n",
       "\n",
       "    .dataframe tbody tr th {\n",
       "        vertical-align: top;\n",
       "    }\n",
       "\n",
       "    .dataframe thead th {\n",
       "        text-align: right;\n",
       "    }\n",
       "</style>\n",
       "<table border=\"1\" class=\"dataframe\">\n",
       "  <thead>\n",
       "    <tr style=\"text-align: right;\">\n",
       "      <th></th>\n",
       "      <th>base</th>\n",
       "      <th>balanced</th>\n",
       "      <th>hyperparam</th>\n",
       "    </tr>\n",
       "  </thead>\n",
       "  <tbody>\n",
       "    <tr>\n",
       "      <th>accuracy</th>\n",
       "      <td>0.873868</td>\n",
       "      <td>0.674582</td>\n",
       "      <td>0.674042</td>\n",
       "    </tr>\n",
       "    <tr>\n",
       "      <th>f1</th>\n",
       "      <td>0.048279</td>\n",
       "      <td>0.672104</td>\n",
       "      <td>0.671382</td>\n",
       "    </tr>\n",
       "    <tr>\n",
       "      <th>roc_auc</th>\n",
       "      <td>0.729748</td>\n",
       "      <td>0.74484</td>\n",
       "      <td>0.74479</td>\n",
       "    </tr>\n",
       "    <tr>\n",
       "      <th>confusion</th>\n",
       "      <td>[[12791, 47], [1806, 47]]</td>\n",
       "      <td>[[1264, 612], [594, 1236]]</td>\n",
       "      <td>[[1264, 612], [596, 1234]]</td>\n",
       "    </tr>\n",
       "  </tbody>\n",
       "</table>\n",
       "</div>"
      ],
      "text/plain": [
       "                                base                    balanced  \\\n",
       "accuracy                    0.873868                    0.674582   \n",
       "f1                          0.048279                    0.672104   \n",
       "roc_auc                     0.729748                     0.74484   \n",
       "confusion  [[12791, 47], [1806, 47]]  [[1264, 612], [594, 1236]]   \n",
       "\n",
       "                           hyperparam  \n",
       "accuracy                     0.674042  \n",
       "f1                           0.671382  \n",
       "roc_auc                       0.74479  \n",
       "confusion  [[1264, 612], [596, 1234]]  "
      ]
     },
     "execution_count": 78,
     "metadata": {},
     "output_type": "execute_result"
    }
   ],
   "source": [
    "logreg = LogisticRegression(class_weight=None, max_iter=1000, penalty='none', \n",
    "                           solver='newton-cg', tol=1e-5)\n",
    "logreg.fit(X_train, y_train)\n",
    "y_pred = logreg.predict(X_valid)\n",
    "y_prob = logreg.predict_proba(X_valid)[:,1]\n",
    "\n",
    "results['hyperparam'] = pd.Series(get_metrics(y_valid, y_pred, y_prob))\n",
    "roc_auc_graph(y_valid, y_prob)\n",
    "results"
   ]
  },
  {
   "cell_type": "markdown",
   "id": "0f78a7ef",
   "metadata": {},
   "source": [
    "***Вывод.*** Из результирующей таблицы видно, что подбор гиперпараметров не привел к принципиальному измененнию контрольных метрик. Они даже немного ухудшились. Исходя из этого выбираем сбалансированную модель как наилучшую."
   ]
  },
  {
   "cell_type": "markdown",
   "id": "94df6507",
   "metadata": {},
   "source": [
    "**4. Формирование файла Submission**"
   ]
  },
  {
   "cell_type": "markdown",
   "id": "a8eda3d1",
   "metadata": {},
   "source": [
    "Для отправки результатов работы созданной модели на *kaggle* необходимо сформировать файл *submission.csv*, который содержит датафрейм с признаками *client_id* - идентификатор клиента и *default* - флаг дефолта по клиенту, предсказанный по результатам работы нашей модели.\n",
    "\n",
    "Обучаем нашу лучшую модель на полных обучающих данных и формируем датафрейм для отправки."
   ]
  },
  {
   "cell_type": "code",
   "execution_count": 79,
   "id": "0b2d97b6",
   "metadata": {},
   "outputs": [
    {
     "data": {
      "text/html": [
       "<div>\n",
       "<style scoped>\n",
       "    .dataframe tbody tr th:only-of-type {\n",
       "        vertical-align: middle;\n",
       "    }\n",
       "\n",
       "    .dataframe tbody tr th {\n",
       "        vertical-align: top;\n",
       "    }\n",
       "\n",
       "    .dataframe thead th {\n",
       "        text-align: right;\n",
       "    }\n",
       "</style>\n",
       "<table border=\"1\" class=\"dataframe\">\n",
       "  <thead>\n",
       "    <tr style=\"text-align: right;\">\n",
       "      <th></th>\n",
       "      <th>client_id</th>\n",
       "      <th>default</th>\n",
       "    </tr>\n",
       "  </thead>\n",
       "  <tbody>\n",
       "    <tr>\n",
       "      <th>count</th>\n",
       "      <td>36165.000000</td>\n",
       "      <td>36165.000000</td>\n",
       "    </tr>\n",
       "    <tr>\n",
       "      <th>mean</th>\n",
       "      <td>54968.458814</td>\n",
       "      <td>0.000249</td>\n",
       "    </tr>\n",
       "    <tr>\n",
       "      <th>std</th>\n",
       "      <td>31703.891817</td>\n",
       "      <td>0.015774</td>\n",
       "    </tr>\n",
       "    <tr>\n",
       "      <th>min</th>\n",
       "      <td>4.000000</td>\n",
       "      <td>0.000000</td>\n",
       "    </tr>\n",
       "    <tr>\n",
       "      <th>25%</th>\n",
       "      <td>27777.000000</td>\n",
       "      <td>0.000000</td>\n",
       "    </tr>\n",
       "    <tr>\n",
       "      <th>50%</th>\n",
       "      <td>54696.000000</td>\n",
       "      <td>0.000000</td>\n",
       "    </tr>\n",
       "    <tr>\n",
       "      <th>75%</th>\n",
       "      <td>82341.000000</td>\n",
       "      <td>0.000000</td>\n",
       "    </tr>\n",
       "    <tr>\n",
       "      <th>max</th>\n",
       "      <td>110148.000000</td>\n",
       "      <td>1.000000</td>\n",
       "    </tr>\n",
       "  </tbody>\n",
       "</table>\n",
       "</div>"
      ],
      "text/plain": [
       "           client_id       default\n",
       "count   36165.000000  36165.000000\n",
       "mean    54968.458814      0.000249\n",
       "std     31703.891817      0.015774\n",
       "min         4.000000      0.000000\n",
       "25%     27777.000000      0.000000\n",
       "50%     54696.000000      0.000000\n",
       "75%     82341.000000      0.000000\n",
       "max    110148.000000      1.000000"
      ]
     },
     "execution_count": 79,
     "metadata": {},
     "output_type": "execute_result"
    }
   ],
   "source": [
    "logreg_final = LogisticRegression(solver='liblinear', max_iter=1000)\n",
    "logreg_final.fit(X, y)\n",
    "\n",
    "predict_submission = logreg_final.predict(test_data.drop(['client_id'], axis=1))\n",
    "submission = pd.DataFrame(test_data['client_id'])\n",
    "submission['default'] = predict_submission\n",
    "submission.to_csv('submission.csv', index=False)\n",
    "submission.describe()"
   ]
  },
  {
   "cell_type": "code",
   "execution_count": 80,
   "id": "698a4641",
   "metadata": {},
   "outputs": [
    {
     "data": {
      "text/plain": [
       "0    36156\n",
       "1        9\n",
       "Name: default, dtype: int64"
      ]
     },
     "execution_count": 80,
     "metadata": {},
     "output_type": "execute_result"
    }
   ],
   "source": [
    "submission['default'].value_counts()"
   ]
  },
  {
   "cell_type": "markdown",
   "id": "ffc29f4d",
   "metadata": {},
   "source": [
    "***Выводы.***\n",
    "1. Произвели предсказание по выбранной модели для тестовых данных, заданных изначально.\n",
    "2. Подготовили и отправили в *kaggle* файл *submission.csv* с итогами предсказания дефолтов заемщиков на основании тестовых данных.\n",
    "3. По результатам работы выбранной модели предсказано 9 дефолтов заемщиков."
   ]
  },
  {
   "cell_type": "markdown",
   "id": "d20a06e1",
   "metadata": {},
   "source": [
    "**5. Общие выводы по проекту**"
   ]
  },
  {
   "cell_type": "markdown",
   "id": "a78d1dec",
   "metadata": {},
   "source": [
    "В ходе выполнения проекта были произведены выполнены следующие действия:\n",
    "\n",
    "1. Произведена загрузка и первичное знакомство с предложенными для обработки данными.\n",
    "2. Произведена предобработка данных с детальным анализом всех признаков выборки.\n",
    "3. Произведено разделение признаков на группы по типам предобработки. Над группами признаков выполнены требуемые преобразования.\n",
    "4. Произведено создание нескольких вариантов моделей банковского скоринга используя логическую регрессию.\n",
    "5. На основе контрольных метрик, произведены оценки полученных моделей и выбрана наилучшая.\n",
    "6. Используя выбранную модель, произведено предсказание дефолтов заемщиков на основе предложенных тестовых данных.\n",
    "7. Итоги предсказанных значений дефолтов отправлены в *kaggi*.\n",
    "\n",
    "В результате работы над проектом получен опыт по настройке и анализу модели логиеской регрессии, изучено влияние данных на ее качество, а так же произведено применение созданной модели для расчета практических результатов."
   ]
  }
 ],
 "metadata": {
  "kernelspec": {
   "display_name": "Python 3 (ipykernel)",
   "language": "python",
   "name": "python3"
  },
  "language_info": {
   "codemirror_mode": {
    "name": "ipython",
    "version": 3
   },
   "file_extension": ".py",
   "mimetype": "text/x-python",
   "name": "python",
   "nbconvert_exporter": "python",
   "pygments_lexer": "ipython3",
   "version": "3.9.7"
  }
 },
 "nbformat": 4,
 "nbformat_minor": 5
}
